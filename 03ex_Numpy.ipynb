{
 "cells": [
  {
   "cell_type": "markdown",
   "metadata": {},
   "source": [
    "### Numpy basics"
   ]
  },
  {
   "cell_type": "code",
   "execution_count": 1,
   "metadata": {},
   "outputs": [],
   "source": [
    "import numpy as np"
   ]
  },
  {
   "cell_type": "markdown",
   "metadata": {},
   "source": [
    "1\\. Find the row, column and overall means for the following matrix:\n",
    "\n",
    "```python\n",
    "m = np.arange(12).reshape((3,4))\n",
    "```"
   ]
  },
  {
   "cell_type": "code",
   "execution_count": 2,
   "metadata": {},
   "outputs": [
    {
     "name": "stdout",
     "output_type": "stream",
     "text": [
      "[[ 0  1  2  3]\n",
      " [ 4  5  6  7]\n",
      " [ 8  9 10 11]]\n",
      "The matrix has 3 rows and 4 columns \n",
      "Means over columns \n",
      " [4. 5. 6. 7.]\n",
      "Means over rows \n",
      " [1.5 5.5 9.5]\n"
     ]
    }
   ],
   "source": [
    "m = np.arange(12).reshape((3,4))\n",
    "print(m)\n",
    "print('The matrix has %d rows and %d columns '% (m.shape[0], m.shape[1]))\n",
    "print('Means over columns \\n', m.mean(0))\n",
    "print('Means over rows \\n', m.mean(1))"
   ]
  },
  {
   "cell_type": "markdown",
   "metadata": {},
   "source": [
    "2\\. Find the outer product of the following two vecotrs\n",
    "\n",
    "```python\n",
    "u = np.array([1,3,5,7])\n",
    "v = np.array([2,4,6,8])\n",
    "```\n",
    "\n",
    "Do this in the following ways:\n",
    "\n",
    "   * Using the function outer in numpy\n",
    "   * Using a nested for loop or list comprehension\n",
    "   * Using numpy broadcasting operatoins\n"
   ]
  },
  {
   "cell_type": "code",
   "execution_count": 3,
   "metadata": {},
   "outputs": [
    {
     "name": "stdout",
     "output_type": "stream",
     "text": [
      "*The outer product u^v gives the vector: \n",
      " [[ 2  4  6  8]\n",
      " [ 6 12 18 24]\n",
      " [10 20 30 40]\n",
      " [14 28 42 56]]\n",
      "**The outer product u^v gives the vector: \n",
      " [[ 2.  4.  6.  8.]\n",
      " [ 6. 12. 18. 24.]\n",
      " [10. 20. 30. 40.]\n",
      " [14. 28. 42. 56.]]\n",
      "***The outer product u^v gives the vector: \n",
      " [[ 2  4  6  8]\n",
      " [ 6 12 18 24]\n",
      " [10 20 30 40]\n",
      " [14 28 42 56]]\n"
     ]
    }
   ],
   "source": [
    "u = np.array([1,3,5,7])\n",
    "v = np.array([2,4,6,8])\n",
    "\n",
    "#\n",
    "outer_prod1=np.outer(u,v)\n",
    "print('*The outer product u^v gives the vector: \\n %s'% outer_prod1)\n",
    "\n",
    "##\n",
    "outer_prod2=np.ones((len(u),len(v)))\n",
    "for i in np.arange(len(u)):\n",
    "    for j in np.arange(len(v)):\n",
    "        outer_prod2[i,j]=u[i]*v[j]\n",
    "print('**The outer product u^v gives the vector: \\n %s'% outer_prod2)\n",
    "\n",
    "###\n",
    "v = np.resize(v, (4,4))\n",
    "u = np.resize(u, (4,4)).transpose()\n",
    "print('***The outer product u^v gives the vector: \\n %s'% (u*v))"
   ]
  },
  {
   "cell_type": "markdown",
   "metadata": {},
   "source": [
    "3\\. Create a 10 by 6 matrix of random uniform numbers. Set all rows with any entry less than 0.1 to be zero\n",
    "\n",
    "Hint: Use the following numpy functions - np.random.random, np.any as well as Boolean indexing and the axis argument."
   ]
  },
  {
   "cell_type": "code",
   "execution_count": 4,
   "metadata": {},
   "outputs": [
    {
     "name": "stdout",
     "output_type": "stream",
     "text": [
      "[[0.21710822 0.89188035 0.         0.84316525 0.26162036 0.10350786]\n",
      " [0.96937512 0.92665758 0.         0.87299115 0.78021817 0.70331036]\n",
      " [0.57367648 0.36938446 0.25287673 0.58259152 0.70772786 0.72505626]\n",
      " [0.53567235 0.87297937 0.6466444  0.49004567 0.17318837 0.79306873]\n",
      " [0.51873018 0.79296657 0.2215023  0.68665317 0.82322567 0.93919901]\n",
      " [0.3568687  0.82061584 0.55498735 0.68100599 0.29328144 0.        ]\n",
      " [0.97858456 0.28665284 0.         0.64842365 0.80025122 0.67091881]\n",
      " [0.47503488 0.12418208 0.94794017 0.96023689 0.86754744 0.92961372]\n",
      " [0.50792074 0.10351948 0.         0.99420093 0.91342042 0.37129095]\n",
      " [0.48928488 0.80372449 0.50775292 0.84793877 0.25392683 0.17332965]]\n"
     ]
    }
   ],
   "source": [
    "import numpy.random as npr\n",
    "matrix=npr.random((10,6))\n",
    "matrix[matrix<0.1]=0\n",
    "print(matrix)"
   ]
  },
  {
   "cell_type": "markdown",
   "metadata": {},
   "source": [
    "4\\. Use np.linspace to create an array of 100 numbers between 0 and 2π (includsive).\n",
    "\n",
    "  * Extract every 10th element using slice notation\n",
    "  * Reverse the array using slice notation\n",
    "  * Extract elements where the absolute difference between the sine and cosine functions evaluated at that element is less than 0.1\n",
    "  * Make a plot showing the sin and cos functions and indicate where they are close"
   ]
  },
  {
   "cell_type": "code",
   "execution_count": 9,
   "metadata": {},
   "outputs": [
    {
     "name": "stdout",
     "output_type": "stream",
     "text": [
      "[0.         0.07356753 0.14713506 0.22070259 0.29427011 0.36783764\n",
      " 0.44140517 0.5149727  0.58854023 0.66210776 0.73567528 0.80924281\n",
      " 0.88281034 0.95637787 1.0299454  1.10351293 1.17708045 1.25064798\n",
      " 1.32421551 1.39778304 1.47135057 1.5449181  1.61848562 1.69205315\n",
      " 1.76562068 1.83918821 1.91275574 1.98632327 2.05989079 2.13345832\n",
      " 2.20702585 2.28059338 2.35416091 2.42772844 2.50129596 2.57486349\n",
      " 2.64843102 2.72199855 2.79556608 2.86913361 2.94270113 3.01626866\n",
      " 3.08983619 3.16340372 3.23697125 3.31053878 3.3841063  3.45767383\n",
      " 3.53124136 3.60480889 3.67837642 3.75194395 3.82551147 3.899079\n",
      " 3.97264653 4.04621406 4.11978159 4.19334912 4.26691664 4.34048417\n",
      " 4.4140517  4.48761923 4.56118676 4.63475429 4.70832181 4.78188934\n",
      " 4.85545687 4.9290244  5.00259193 5.07615946 5.14972698 5.22329451\n",
      " 5.29686204 5.37042957 5.4439971  5.51756463 5.59113216 5.66469968\n",
      " 5.73826721 5.81183474 5.88540227 5.9589698  6.03253733 6.10610485\n",
      " 6.17967238 6.25323991 6.32680744 6.40037497 6.4739425  6.54751002\n",
      " 6.62107755 6.69464508 6.76821261 6.84178014 6.91534767 6.98891519\n",
      " 7.06248272 7.13605025 7.20961778 7.28318531]\n",
      "This is the extraction:  [0.         0.73567528 1.47135057 2.20702585 2.94270113 3.67837642\n",
      " 4.4140517  5.14972698 5.88540227 6.62107755]\n"
     ]
    }
   ],
   "source": [
    "a=np.linspace(0,(2*np.pi)+1, 100)\n",
    "print(a)\n",
    "\n",
    "#Extraction\n",
    "extraction_tuple=np.arange(0,100,10)\n",
    "#print(extraction_tuple)\n",
    "extraction=a[extraction_tuple]\n",
    "print('This is the extraction: ',extraction)\n",
    "\n",
    "#Reversal\n"
   ]
  },
  {
   "cell_type": "markdown",
   "metadata": {},
   "source": [
    "5\\. Create a matrix that shows the 10 by 10 multiplication table.\n",
    "\n",
    " * Find the trace of the matrix\n",
    " * Extract the anto-diagonal (this should be ```array([10, 18, 24, 28, 30, 30, 28, 24, 18, 10])```)\n",
    " * Extract the diagnoal offset by 1 upwards (this should be ```array([ 2,  6, 12, 20, 30, 42, 56, 72, 90])```)"
   ]
  },
  {
   "cell_type": "markdown",
   "metadata": {},
   "source": [
    "6\\. Use broadcasting to create a grid of distances\n",
    "\n",
    "Route 66 crosses the following cities in the US: Chicago, Springfield, Saint-Louis, Tulsa, Oklahoma City, Amarillo, Santa Fe, Albuquerque, Flagstaff, Los Angeles\n",
    "The corresponding positions in miles are: 0, 198, 303, 736, 871, 1175, 1475, 1544, 1913, 2448\n",
    "\n",
    "  * Construct a 2D grid of distances among each city along Route 66\n",
    "  * Convert that in km (those savages...)"
   ]
  },
  {
   "cell_type": "markdown",
   "metadata": {},
   "source": [
    "7\\. Prime numbers sieve: compute the prime numbers in the 0-N (N=99 to start with) range with a sieve (mask).\n",
    "  * Constract a shape (100,) boolean array, the mask\n",
    "  * Identify the multiples of each number starting from 2 and set accordingly the corresponding mask element\n",
    "  * Apply the mask to obtain an array of ordered prime numbers\n",
    "  * Check the performances (timeit); how does it scale with N?\n",
    "  * Implement the optimization suggested in the [sieve of Eratosthenes](https://en.wikipedia.org/wiki/Sieve_of_Eratosthenes)"
   ]
  },
  {
   "cell_type": "markdown",
   "metadata": {},
   "source": [
    "8\\. Diffusion using random walk\n",
    "\n",
    "Consider a simple random walk process: at each step in time, a walker jumps right or left (+1 or -1) with equal probability. The goal is to find the typical distance from the origin of a random walker after a given amount of time. \n",
    "To do that, let's simulate many walkers and create a 2D array with each walker as a raw and the actual time evolution as columns\n",
    "\n",
    "  * Take 1000 walkers and let them walk for 200 steps\n",
    "  * Use randint to create a 2D array of size walkers x steps with values -1 or 1\n",
    "  * Build the actual walking distances for each walker (i.e. another 2D array \"summing on each raw\")\n",
    "  * Take the square of that 2D array (elementwise)\n",
    "  * Compute the mean of the squared distances at each step (i.e. the mean along the columns)\n",
    "  * Plot the average distances (sqrt(distance\\*\\*2)) as a function of time (step)\n",
    "  \n",
    "Did you get what you expected?"
   ]
  },
  {
   "cell_type": "markdown",
   "metadata": {},
   "source": [
    "9\\. Analyze a data file \n",
    "  * Download the population of hares, lynxes and carrots at the beginning of the last century.\n",
    "    ```python\n",
    "    ! wget https://www.dropbox.com/s/3vigxoqayo389uc/populations.txt\n",
    "    ```\n",
    "\n",
    "  * Check the content by looking within the file\n",
    "  * Load the data (use an appropriate numpy method) into a 2D array\n",
    "  * Create arrays out of the columns, the arrays being (in order): *year*, *hares*, *lynxes*, *carrots* \n",
    "  * Plot the 3 populations over the years\n",
    "  * Compute the main statistical properties of the dataset (mean, std, correlations, etc.)\n",
    "  * Which species has the highest population each year?\n",
    "\n",
    "Do you feel there is some evident correlation here? [Studies](https://www.enr.gov.nt.ca/en/services/lynx/lynx-snowshoe-hare-cycle) tend to believe so."
   ]
  },
  {
   "cell_type": "code",
   "execution_count": null,
   "metadata": {},
   "outputs": [],
   "source": []
  }
 ],
 "metadata": {
  "kernelspec": {
   "display_name": "Python 3",
   "language": "python",
   "name": "python3"
  },
  "language_info": {
   "codemirror_mode": {
    "name": "ipython",
    "version": 3
   },
   "file_extension": ".py",
   "mimetype": "text/x-python",
   "name": "python",
   "nbconvert_exporter": "python",
   "pygments_lexer": "ipython3",
   "version": "3.6.5"
  }
 },
 "nbformat": 4,
 "nbformat_minor": 2
}
