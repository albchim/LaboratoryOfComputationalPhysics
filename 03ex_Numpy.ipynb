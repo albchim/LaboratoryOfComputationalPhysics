{
 "cells": [
  {
   "cell_type": "markdown",
   "metadata": {},
   "source": [
    "### Numpy basics"
   ]
  },
  {
   "cell_type": "code",
   "execution_count": 2,
   "metadata": {},
   "outputs": [],
   "source": [
    "import numpy as np"
   ]
  },
  {
   "cell_type": "markdown",
   "metadata": {},
   "source": [
    "1\\. Find the row, column and overall means for the following matrix:\n",
    "\n",
    "```python\n",
    "m = np.arange(12).reshape((3,4))\n",
    "```"
   ]
  },
  {
   "cell_type": "code",
   "execution_count": 3,
   "metadata": {},
   "outputs": [
    {
     "name": "stdout",
     "output_type": "stream",
     "text": [
      "[[ 0  1  2  3]\n",
      " [ 4  5  6  7]\n",
      " [ 8  9 10 11]]\n",
      "The matrix has 3 rows and 4 columns \n",
      "Means over columns \n",
      " [4. 5. 6. 7.]\n",
      "Means over rows \n",
      " [1.5 5.5 9.5]\n"
     ]
    }
   ],
   "source": [
    "m = np.arange(12).reshape((3,4))\n",
    "print(m)\n",
    "print('The matrix has %d rows and %d columns '% (m.shape[0], m.shape[1]))\n",
    "print('Means over columns \\n', m.mean(0))\n",
    "print('Means over rows \\n', m.mean(1))"
   ]
  },
  {
   "cell_type": "markdown",
   "metadata": {},
   "source": [
    "2\\. Find the outer product of the following two vecotrs\n",
    "\n",
    "```python\n",
    "u = np.array([1,3,5,7])\n",
    "v = np.array([2,4,6,8])\n",
    "```\n",
    "\n",
    "Do this in the following ways:\n",
    "\n",
    "   * Using the function outer in numpy\n",
    "   * Using a nested for loop or list comprehension\n",
    "   * Using numpy broadcasting operatoins\n"
   ]
  },
  {
   "cell_type": "code",
   "execution_count": 4,
   "metadata": {},
   "outputs": [
    {
     "name": "stdout",
     "output_type": "stream",
     "text": [
      "*The outer product u^v gives the vector: \n",
      " [[ 2  4  6  8]\n",
      " [ 6 12 18 24]\n",
      " [10 20 30 40]\n",
      " [14 28 42 56]]\n",
      "**The outer product u^v gives the vector: \n",
      " [[ 2.  4.  6.  8.]\n",
      " [ 6. 12. 18. 24.]\n",
      " [10. 20. 30. 40.]\n",
      " [14. 28. 42. 56.]]\n",
      "***The outer product u^v gives the vector: \n",
      " [[ 2  4  6  8]\n",
      " [ 6 12 18 24]\n",
      " [10 20 30 40]\n",
      " [14 28 42 56]]\n"
     ]
    }
   ],
   "source": [
    "u = np.array([1,3,5,7])\n",
    "v = np.array([2,4,6,8])\n",
    "\n",
    "#\n",
    "outer_prod1=np.outer(u,v)\n",
    "print('*The outer product u^v gives the vector: \\n %s'% outer_prod1)\n",
    "\n",
    "##\n",
    "outer_prod2=np.ones((len(u),len(v)))\n",
    "for i in np.arange(len(u)):\n",
    "    for j in np.arange(len(v)):\n",
    "        outer_prod2[i,j]=u[i]*v[j]\n",
    "print('**The outer product u^v gives the vector: \\n %s'% outer_prod2)\n",
    "\n",
    "###\n",
    "v = np.resize(v, (4,4))\n",
    "u = np.resize(u, (4,4)).transpose()\n",
    "print('***The outer product u^v gives the vector: \\n %s'% (u*v))"
   ]
  },
  {
   "cell_type": "markdown",
   "metadata": {},
   "source": [
    "3\\. Create a 10 by 6 matrix of random uniform numbers. Set all rows with any entry less than 0.1 to be zero\n",
    "\n",
    "Hint: Use the following numpy functions - np.random.random, np.any as well as Boolean indexing and the axis argument."
   ]
  },
  {
   "cell_type": "code",
   "execution_count": 5,
   "metadata": {},
   "outputs": [
    {
     "name": "stdout",
     "output_type": "stream",
     "text": [
      "[[0.877814   0.         0.9143099  0.2179813  0.5561276  0.29220002]\n",
      " [0.         0.55847039 0.87329313 0.83413272 0.60902341 0.39369211]\n",
      " [0.97844916 0.16323671 0.44188463 0.89113576 0.21046019 0.        ]\n",
      " [0.6962075  0.41198596 0.24217201 0.63177196 0.25873295 0.99096624]\n",
      " [0.         0.96896963 0.51945583 0.61993781 0.79691134 0.18940908]\n",
      " [0.         0.         0.6642793  0.60322268 0.65051859 0.        ]\n",
      " [0.41477754 0.31796278 0.88673814 0.51693158 0.75959267 0.76582532]\n",
      " [0.28184183 0.65188701 0.62217517 0.5760036  0.         0.41489914]\n",
      " [0.59593172 0.19551293 0.48596241 0.         0.6484511  0.36421863]\n",
      " [0.55095467 0.87092782 0.20116444 0.63011131 0.70171812 0.68915329]]\n"
     ]
    }
   ],
   "source": [
    "import numpy.random as npr\n",
    "matrix=npr.random((10,6))\n",
    "matrix[matrix<0.1]=0\n",
    "print(matrix)"
   ]
  },
  {
   "cell_type": "markdown",
   "metadata": {},
   "source": [
    "4\\. Use np.linspace to create an array of 100 numbers between 0 and 2π (includsive).\n",
    "\n",
    "  * Extract every 10th element using slice notation\n",
    "  * Reverse the array using slice notation\n",
    "  * Extract elements where the absolute difference between the sine and cosine functions evaluated at that element is less than 0.1\n",
    "  * Make a plot showing the sin and cos functions and indicate where they are close"
   ]
  },
  {
   "cell_type": "code",
   "execution_count": 53,
   "metadata": {},
   "outputs": [
    {
     "name": "stdout",
     "output_type": "stream",
     "text": [
      "This is the array: \n",
      " [0.         0.06356753 0.12713506 0.19070259 0.25427011 0.31783764\n",
      " 0.38140517 0.4449727  0.50854023 0.57210776 0.63567528 0.69924281\n",
      " 0.76281034 0.82637787 0.8899454  0.95351293 1.01708045 1.08064798\n",
      " 1.14421551 1.20778304 1.27135057 1.3349181  1.39848562 1.46205315\n",
      " 1.52562068 1.58918821 1.65275574 1.71632327 1.77989079 1.84345832\n",
      " 1.90702585 1.97059338 2.03416091 2.09772844 2.16129596 2.22486349\n",
      " 2.28843102 2.35199855 2.41556608 2.47913361 2.54270113 2.60626866\n",
      " 2.66983619 2.73340372 2.79697125 2.86053878 2.9241063  2.98767383\n",
      " 3.05124136 3.11480889 3.17837642 3.24194395 3.30551147 3.369079\n",
      " 3.43264653 3.49621406 3.55978159 3.62334912 3.68691664 3.75048417\n",
      " 3.8140517  3.87761923 3.94118676 4.00475429 4.06832181 4.13188934\n",
      " 4.19545687 4.2590244  4.32259193 4.38615946 4.44972698 4.51329451\n",
      " 4.57686204 4.64042957 4.7039971  4.76756463 4.83113216 4.89469968\n",
      " 4.95826721 5.02183474 5.08540227 5.1489698  5.21253733 5.27610485\n",
      " 5.33967238 5.40323991 5.46680744 5.53037497 5.5939425  5.65751002\n",
      " 5.72107755 5.78464508 5.84821261 5.91178014 5.97534767 6.03891519\n",
      " 6.10248272 6.16605025 6.22961778 6.29318531] \n",
      "\n",
      "This is the extraction: \n",
      " [0.         0.63567528 1.27135057 1.90702585 2.54270113 3.17837642\n",
      " 3.8140517  4.44972698 5.08540227 5.72107755] \n",
      "\n",
      "This is the reverse array: \n",
      " [6.29318531 6.22961778 6.16605025 6.10248272 6.03891519 5.97534767\n",
      " 5.91178014 5.84821261 5.78464508 5.72107755 5.65751002 5.5939425\n",
      " 5.53037497 5.46680744 5.40323991 5.33967238 5.27610485 5.21253733\n",
      " 5.1489698  5.08540227 5.02183474 4.95826721 4.89469968 4.83113216\n",
      " 4.76756463 4.7039971  4.64042957 4.57686204 4.51329451 4.44972698\n",
      " 4.38615946 4.32259193 4.2590244  4.19545687 4.13188934 4.06832181\n",
      " 4.00475429 3.94118676 3.87761923 3.8140517  3.75048417 3.68691664\n",
      " 3.62334912 3.55978159 3.49621406 3.43264653 3.369079   3.30551147\n",
      " 3.24194395 3.17837642 3.11480889 3.05124136 2.98767383 2.9241063\n",
      " 2.86053878 2.79697125 2.73340372 2.66983619 2.60626866 2.54270113\n",
      " 2.47913361 2.41556608 2.35199855 2.28843102 2.22486349 2.16129596\n",
      " 2.09772844 2.03416091 1.97059338 1.90702585 1.84345832 1.77989079\n",
      " 1.71632327 1.65275574 1.58918821 1.52562068 1.46205315 1.39848562\n",
      " 1.3349181  1.27135057 1.20778304 1.14421551 1.08064798 1.01708045\n",
      " 0.95351293 0.8899454  0.82637787 0.76281034 0.69924281 0.63567528\n",
      " 0.57210776 0.50854023 0.4449727  0.38140517 0.31783764 0.25427011\n",
      " 0.19070259 0.12713506 0.06356753 0.        ] \n",
      "\n",
      "This is the extraction for elemets for which sin(a[i])-cos(a[i])<0.1 : \n",
      " [0.7628103402641924, 0.8263778686195417, 3.877619229676311, 3.94118675803166] \n",
      "\n"
     ]
    },
    {
     "data": {
      "image/png": "[encoded data removed]",
      "text/plain": [
       "<Figure size 432x288 with 1 Axes>"
      ]
     },
     "metadata": {
      "needs_background": "light"
     },
     "output_type": "display_data"
    }
   ],
   "source": [
    "import matplotlib.pyplot as plt\n",
    "%matplotlib inline\n",
    "\n",
    "a=np.linspace(0,(2*np.pi)+(0.01), 100)\n",
    "print('This is the array: \\n' , a, '\\n')\n",
    "\n",
    "#Extraction\n",
    "extraction_tuple=np.arange(0,100,10)\n",
    "#print(extraction_tuple)\n",
    "extraction=a[extraction_tuple]\n",
    "print('This is the extraction: \\n',extraction, '\\n')\n",
    "\n",
    "#Reversal\n",
    "a_reverse=a.copy()\n",
    "for i in np.arange(0,int(len(a))):\n",
    "    a_reverse[i]=a[len(a)-i-1]\n",
    "print('This is the reverse array: \\n' , a_reverse, '\\n')\n",
    "\n",
    "#Evaluation\n",
    "copy=a.copy()\n",
    "evaluation=[]\n",
    "for i in np.arange(0,int(len(a))):\n",
    "    if (np.sin(a[i])-np.cos(a[i])<0.1 and np.sin(a[i])-np.cos(a[i])>-0.1):\n",
    "        evaluation.append(a[i])\n",
    "        copy[i]=np.sin(a[i])\n",
    "    else:\n",
    "        copy[i]=0\n",
    "print('This is the extraction for elemets for which sin(a[i])-cos(a[i])<0.1 : \\n' , evaluation, '\\n')\n",
    "\n",
    "#Plot\n",
    "\n",
    "plt.figure()\n",
    "plt.plot(a, np.sin(a), label='sin(a)')\n",
    "plt.plot(a, np.cos(a),  label='cos(a)')\n",
    "plt.plot(a, copy, 'r.', label='Condition for difference')\n",
    "plt.legend()\n",
    "plt.show()"
   ]
  },
  {
   "cell_type": "markdown",
   "metadata": {},
   "source": [
    "5\\. Create a matrix that shows the 10 by 10 multiplication table.\n",
    "\n",
    " * Find the trace of the matrix\n",
    " * Extract the anto-diagonal (this should be ```array([10, 18, 24, 28, 30, 30, 28, 24, 18, 10])```)\n",
    " * Extract the diagnoal offset by 1 upwards (this should be ```array([ 2,  6, 12, 20, 30, 42, 56, 72, 90])```)"
   ]
  },
  {
   "cell_type": "code",
   "execution_count": 81,
   "metadata": {},
   "outputs": [
    {
     "name": "stdout",
     "output_type": "stream",
     "text": [
      "[[  1.   2.   3.   4.   5.   6.   7.   8.   9.  10.]\n",
      " [  2.   4.   6.   8.  10.  12.  14.  16.  18.  20.]\n",
      " [  3.   6.   9.  12.  15.  18.  21.  24.  27.  30.]\n",
      " [  4.   8.  12.  16.  20.  24.  28.  32.  36.  40.]\n",
      " [  5.  10.  15.  20.  25.  30.  35.  40.  45.  50.]\n",
      " [  6.  12.  18.  24.  30.  36.  42.  48.  54.  60.]\n",
      " [  7.  14.  21.  28.  35.  42.  49.  56.  63.  70.]\n",
      " [  8.  16.  24.  32.  40.  48.  56.  64.  72.  80.]\n",
      " [  9.  18.  27.  36.  45.  54.  63.  72.  81.  90.]\n",
      " [ 10.  20.  30.  40.  50.  60.  70.  80.  90. 100.]] \n",
      "\n",
      "Trace: 385.0\n",
      "Anti-diagonal: [10. 18. 24. 28. 30. 30. 28. 24. 18. 10.]\n",
      "Extracted diagonal: [ 2.  6. 12. 20. 30. 42. 56. 72. 90.]\n"
     ]
    }
   ],
   "source": [
    "a=np.arange(1,11)\n",
    "a=np.vstack((a, np.zeros(len(a))))\n",
    "matrix=np.dot(a.T,a)\n",
    "print(matrix,'\\n')\n",
    "\n",
    "print('Trace:',matrix.trace())\n",
    "print('Anti-diagonal:',np.diag(np.fliplr(matrix)))\n",
    "print('Extracted diagonal:', np.diag(matrix[1:,0:len(matrix)-1]))"
   ]
  },
  {
   "cell_type": "markdown",
   "metadata": {},
   "source": [
    "6\\. Use broadcasting to create a grid of distances\n",
    "\n",
    "Route 66 crosses the following cities in the US: Chicago, Springfield, Saint-Louis, Tulsa, Oklahoma City, Amarillo, Santa Fe, Albuquerque, Flagstaff, Los Angeles\n",
    "The corresponding positions in miles are: 0, 198, 303, 736, 871, 1175, 1475, 1544, 1913, 2448\n",
    "\n",
    "  * Construct a 2D grid of distances among each city along Route 66\n",
    "  * Convert that in km (those savages...)"
   ]
  },
  {
   "cell_type": "code",
   "execution_count": 108,
   "metadata": {},
   "outputs": [
    {
     "name": "stdout",
     "output_type": "stream",
     "text": [
      "Distances: \n",
      " [[    0   198   303   736   871  1175  1475  1544  1913  2448]\n",
      " [  198     0  -105  -538  -673  -977 -1277 -1346 -1715 -2250]\n",
      " [  303   105     0  -433  -568  -872 -1172 -1241 -1610 -2145]\n",
      " [  736   538   433     0  -135  -439  -739  -808 -1177 -1712]\n",
      " [  871   673   568   135     0  -304  -604  -673 -1042 -1577]\n",
      " [ 1175   977   872   439   304     0  -300  -369  -738 -1273]\n",
      " [ 1475  1277  1172   739   604   300     0   -69  -438  -973]\n",
      " [ 1544  1346  1241   808   673   369    69     0  -369  -904]\n",
      " [ 1913  1715  1610  1177  1042   738   438   369     0  -535]\n",
      " [ 2448  2250  2145  1712  1577  1273   973   904   535     0]] \n",
      "\n",
      "Distances in km: \n",
      " [[    0.        318.64932   487.63002  1184.47424  1401.73514  1890.9745\n",
      "   2373.7765   2484.82096  3078.66742  3939.66432]\n",
      " [  318.64932     0.       -168.9807   -865.82492 -1083.08582 -1572.32518\n",
      "  -2055.12718 -2166.17164 -2760.0181  -3621.015  ]\n",
      " [  487.63002   168.9807      0.       -696.84422  -914.10512 -1403.34448\n",
      "  -1886.14648 -1997.19094 -2591.0374  -3452.0343 ]\n",
      " [ 1184.47424   865.82492   696.84422     0.       -217.2609   -706.50026\n",
      "  -1189.30226 -1300.34672 -1894.19318 -2755.19008]\n",
      " [ 1401.73514  1083.08582   914.10512   217.2609      0.       -489.23936\n",
      "   -972.04136 -1083.08582 -1676.93228 -2537.92918]\n",
      " [ 1890.9745   1572.32518  1403.34448   706.50026   489.23936     0.\n",
      "   -482.802    -593.84646 -1187.69292 -2048.68982]\n",
      " [ 2373.7765   2055.12718  1886.14648  1189.30226   972.04136   482.802\n",
      "      0.       -111.04446  -704.89092 -1565.88782]\n",
      " [ 2484.82096  2166.17164  1997.19094  1300.34672  1083.08582   593.84646\n",
      "    111.04446     0.       -593.84646 -1454.84336]\n",
      " [ 3078.66742  2760.0181   2591.0374   1894.19318  1676.93228  1187.69292\n",
      "    704.89092   593.84646     0.       -860.9969 ]\n",
      " [ 3939.66432  3621.015    3452.0343   2755.19008  2537.92918  2048.68982\n",
      "   1565.88782  1454.84336   860.9969      0.     ]]\n"
     ]
    }
   ],
   "source": [
    "positions=np.array([0, 198, 303, 736, 871, 1175, 1475, 1544, 1913, 2448])\n",
    "d_matrix=positions.reshape(10,1)-positions\n",
    "d_matrix[0,:]*=-1\n",
    "print('Distances: \\n',d_matrix,'\\n')\n",
    "print('Distances in km: \\n', d_matrix*1.60934)"
   ]
  },
  {
   "cell_type": "markdown",
   "metadata": {},
   "source": [
    "7\\. Prime numbers sieve: compute the prime numbers in the 0-N (N=99 to start with) range with a sieve (mask).\n",
    "  * Constract a shape (100,) boolean array, the mask\n",
    "  * Identify the multiples of each number starting from 2 and set accordingly the corresponding mask element\n",
    "  * Apply the mask to obtain an array of ordered prime numbers\n",
    "  * Check the performances (timeit); how does it scale with N?\n",
    "  * Implement the optimization suggested in the [sieve of Eratosthenes](https://en.wikipedia.org/wiki/Sieve_of_Eratosthenes)"
   ]
  },
  {
   "cell_type": "code",
   "execution_count": null,
   "metadata": {},
   "outputs": [],
   "source": []
  },
  {
   "cell_type": "markdown",
   "metadata": {},
   "source": [
    "8\\. Diffusion using random walk\n",
    "\n",
    "Consider a simple random walk process: at each step in time, a walker jumps right or left (+1 or -1) with equal probability. The goal is to find the typical distance from the origin of a random walker after a given amount of time. \n",
    "To do that, let's simulate many walkers and create a 2D array with each walker as a raw and the actual time evolution as columns\n",
    "\n",
    "  * Take 1000 walkers and let them walk for 200 steps\n",
    "  * Use randint to create a 2D array of size walkers x steps with values -1 or 1\n",
    "  * Build the actual walking distances for each walker (i.e. another 2D array \"summing on each raw\")\n",
    "  * Take the square of that 2D array (elementwise)\n",
    "  * Compute the mean of the squared distances at each step (i.e. the mean along the columns)\n",
    "  * Plot the average distances (sqrt(distance\\*\\*2)) as a function of time (step)\n",
    "  \n",
    "Did you get what you expected?"
   ]
  },
  {
   "cell_type": "markdown",
   "metadata": {},
   "source": [
    "9\\. Analyze a data file \n",
    "  * Download the population of hares, lynxes and carrots at the beginning of the last century.\n",
    "    ```python\n",
    "    ! wget https://www.dropbox.com/s/3vigxoqayo389uc/populations.txt\n",
    "    ```\n",
    "\n",
    "  * Check the content by looking within the file\n",
    "  * Load the data (use an appropriate numpy method) into a 2D array\n",
    "  * Create arrays out of the columns, the arrays being (in order): *year*, *hares*, *lynxes*, *carrots* \n",
    "  * Plot the 3 populations over the years\n",
    "  * Compute the main statistical properties of the dataset (mean, std, correlations, etc.)\n",
    "  * Which species has the highest population each year?\n",
    "\n",
    "Do you feel there is some evident correlation here? [Studies](https://www.enr.gov.nt.ca/en/services/lynx/lynx-snowshoe-hare-cycle) tend to believe so."
   ]
  },
  {
   "cell_type": "code",
   "execution_count": null,
   "metadata": {},
   "outputs": [],
   "source": []
  }
 ],
 "metadata": {
  "kernelspec": {
   "display_name": "Python 3",
   "language": "python",
   "name": "python3"
  },
  "language_info": {
   "codemirror_mode": {
    "name": "ipython",
    "version": 3
   },
   "file_extension": ".py",
   "mimetype": "text/x-python",
   "name": "python",
   "nbconvert_exporter": "python",
   "pygments_lexer": "ipython3",
   "version": "3.7.0"
  }
 },
 "nbformat": 4,
 "nbformat_minor": 2
}
