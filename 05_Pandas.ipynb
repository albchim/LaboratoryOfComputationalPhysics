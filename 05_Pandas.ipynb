{
 "cells": [
  {
   "cell_type": "markdown",
   "metadata": {},
   "source": [
    "# Pandas\n",
    "\n",
    "The `numpy` module is excellent for numerical computations, but to handle missing data or arrays with mixed types takes more work. The `pandas` module is currently the most widely used tool for data manipulation, providing high-performance, easy-to-use data structures and advanced data analysis tools.\n",
    "\n",
    "In particular `pandas` features:\n",
    "\n",
    "* A fast and efficient \"DataFrame\" object for data manipulation with integrated indexing;\n",
    "* Tools for reading and writing data between in-memory data structures and different formats (CSV, Excel, SQL, HDF5);\n",
    "* Intelligent data alignment and integrated handling of missing data;\n",
    "* Intelligent label-based slicing, fancy indexing, and subsetting of large data sets;\n",
    "* Aggregating or transforming data with a powerful \"group-by\" engine; \n",
    "* High performance merging and joining of data sets;\n",
    "* Hierarchical axis indexing provides an intuitive way of working with high-dimensional data in a lower-dimensional data structure;\n",
    "* Time series-functionalities;\n",
    "* Highly optimized for performance, with critical code paths written in Cython or C.\n"
   ]
  },
  {
   "cell_type": "code",
   "execution_count": 2,
   "metadata": {},
   "outputs": [],
   "source": [
    "import pandas as pd\n",
    "import numpy as np"
   ]
  },
  {
   "cell_type": "markdown",
   "metadata": {},
   "source": [
    "## Series\n",
    "\n",
    "Series are completely equivalent to 1D array but with axis labels and the possibility to store heterogeneous elements. Of paramount importance are the time-series, used to define time evolutions of a phenomenon. \n"
   ]
  },
  {
   "cell_type": "code",
   "execution_count": 3,
   "metadata": {},
   "outputs": [
    {
     "name": "stdout",
     "output_type": "stream",
     "text": [
      "a    0.0\n",
      "b    0.5\n",
      "c    1.0\n",
      "d    1.5\n",
      "e    2.0\n",
      "f    2.5\n",
      "g    3.0\n",
      "h    3.5\n",
      "i    4.0\n",
      "j    4.5\n",
      "dtype: float64 \n",
      "\n",
      "Index(['a', 'b', 'c', 'd', 'e', 'f', 'g', 'h', 'i', 'j'], dtype='object') \n",
      "\n",
      "[0.  0.5 1.  1.5 2.  2.5 3.  3.5 4.  4.5] <class 'numpy.ndarray'> \n",
      "\n",
      "2.5 2.5 3.5 \n",
      "\n",
      "d    1.5\n",
      "f    2.5\n",
      "h    3.5\n",
      "dtype: float64 \n",
      "\n"
     ]
    }
   ],
   "source": [
    "from string import ascii_lowercase as letters\n",
    "\n",
    "# Creating a series, accessing indexes, values and values by their index \n",
    "xs = pd.Series(np.arange(10)*0.5, index=tuple(letters[:10]))\n",
    "print (xs,'\\n')\n",
    "print (xs.index,'\\n')\n",
    "# Values of the Series are actually a numpy array\n",
    "print (xs.values, type(xs.values),'\\n')\n",
    "print (xs['f'], xs.f, xs.h, '\\n')\n",
    "print (xs[['d', 'f', 'h']], '\\n')"
   ]
  },
  {
   "cell_type": "code",
   "execution_count": 4,
   "metadata": {},
   "outputs": [
    {
     "name": "stdout",
     "output_type": "stream",
     "text": [
      "a    0.0\n",
      "b    0.5\n",
      "c    1.0\n",
      "dtype: float64 \n",
      "\n",
      "h    3.5\n",
      "i    4.0\n",
      "j    4.5\n",
      "dtype: float64 \n",
      "\n",
      "a    0.0\n",
      "d    1.5\n",
      "g    3.0\n",
      "j    4.5\n",
      "dtype: float64 \n",
      "\n",
      "h    3.5\n",
      "i    4.0\n",
      "j    4.5\n",
      "dtype: float64 \n",
      "\n",
      "a     1.000000\n",
      "b     1.648721\n",
      "c     2.718282\n",
      "d     4.481689\n",
      "e     7.389056\n",
      "f    12.182494\n",
      "g    20.085537\n",
      "h    33.115452\n",
      "i    54.598150\n",
      "j    90.017131\n",
      "dtype: float64 \n",
      "\n",
      "2.25 1.4361406616345072 \n",
      "\n"
     ]
    }
   ],
   "source": [
    "# Extracting elements and operations: same as numpy array\n",
    "print (xs[:3],'\\n')\n",
    "print (xs[7:], '\\n')\n",
    "print (xs[::3], '\\n')\n",
    "print (xs[xs>3], '\\n')\n",
    "print (np.exp(xs), '\\n')\n",
    "print (np.mean(xs), np.std(xs), '\\n')"
   ]
  },
  {
   "cell_type": "code",
   "execution_count": 5,
   "metadata": {},
   "outputs": [
    {
     "data": {
      "text/plain": [
       "b         1\n",
       "a       cat\n",
       "c    [2, 3]\n",
       "dtype: object"
      ]
     },
     "execution_count": 5,
     "metadata": {},
     "output_type": "execute_result"
    }
   ],
   "source": [
    "# Series can be created from python dictionary too.\n",
    "# Not that the elements can be whatever!\n",
    "d = {'b' : 1, 'a' : 'cat', 'c' : [2,3]}\n",
    "pd.Series(d)\n",
    "\n"
   ]
  },
  {
   "cell_type": "markdown",
   "metadata": {},
   "source": [
    "A key difference between Series and ndarray is that operations between Series automatically align the data based on label. Thus, you can write computations without giving consideration to whether the Series involved have the same labels."
   ]
  },
  {
   "cell_type": "code",
   "execution_count": 6,
   "metadata": {},
   "outputs": [
    {
     "data": {
      "text/plain": [
       "a         NaN\n",
       "b    2.717691\n",
       "c   -0.574001\n",
       "d    0.588947\n",
       "e         NaN\n",
       "dtype: float64"
      ]
     },
     "execution_count": 6,
     "metadata": {},
     "output_type": "execute_result"
    }
   ],
   "source": [
    "s = pd.Series(np.random.randn(5), index=tuple(letters[:5]))\n",
    "s[1:] + s[:-1]"
   ]
  },
  {
   "cell_type": "markdown",
   "metadata": {},
   "source": [
    "### Time series\n",
    "\n",
    "Time series are very often used to profile the behaviour of a quantity as a function of time. Pandas as a special index for that, `DatetimeIndex`, that can be created e.g. with the function `pd.data_range()`"
   ]
  },
  {
   "cell_type": "code",
   "execution_count": 7,
   "metadata": {},
   "outputs": [
    {
     "name": "stdout",
     "output_type": "stream",
     "text": [
      "2018-11-19 14:45:10.000015\n",
      "19/11/2018 14:45:00\n",
      "DatetimeIndex(['2018-11-19 14:45:00', '2018-11-20 14:45:00',\n",
      "               '2018-11-21 14:45:00', '2018-11-22 14:45:00',\n",
      "               '2018-11-23 14:45:00', '2018-11-24 14:45:00',\n",
      "               '2018-11-25 14:45:00'],\n",
      "              dtype='datetime64[ns]', freq='D')\n",
      "DatetimeIndex(['2018-11-19 14:45:00', '2018-11-19 14:45:01',\n",
      "               '2018-11-19 14:45:02', '2018-11-19 14:45:03',\n",
      "               '2018-11-19 14:45:04', '2018-11-19 14:45:05',\n",
      "               '2018-11-19 14:45:06', '2018-11-19 14:45:07',\n",
      "               '2018-11-19 14:45:08', '2018-11-19 14:45:09',\n",
      "               ...\n",
      "               '2018-11-19 15:44:50', '2018-11-19 15:44:51',\n",
      "               '2018-11-19 15:44:52', '2018-11-19 15:44:53',\n",
      "               '2018-11-19 15:44:54', '2018-11-19 15:44:55',\n",
      "               '2018-11-19 15:44:56', '2018-11-19 15:44:57',\n",
      "               '2018-11-19 15:44:58', '2018-11-19 15:44:59'],\n",
      "              dtype='datetime64[ns]', length=3600, freq='S')\n"
     ]
    }
   ],
   "source": [
    "# to define a date, the datetime module is very useful\n",
    "import datetime as dt\n",
    "date = dt.date.today()\n",
    "date = dt.datetime(2018,11,19,14,45,10,15)\n",
    "print (date)\n",
    "\n",
    "# otherwise, several notations are interpreted too\n",
    "date = 'Nov 19 2018'\n",
    "date = '19/11/2018 14:45:00'\n",
    "print (date)\n",
    "\n",
    "days = pd.date_range(date, periods=7, freq='D')\n",
    "print (days)\n",
    "\n",
    "seconds = pd.date_range(date, periods=3600, freq='s')\n",
    "print (seconds)\n"
   ]
  },
  {
   "cell_type": "markdown",
   "metadata": {},
   "source": [
    "To learn more about the frequency strings, please see this [link](http://pandas.pydata.org/pandas-docs/stable/timeseries.html#offset-aliases)\n",
    "\n",
    "\n",
    "Timestamped data is the most basic type of time series data that associates values with points in time. For pandas objects it means using the points in time.\n",
    "\n",
    "functions like `pd.to_datetime` can be used, for instance, when reading information as string from a dataset"
   ]
  },
  {
   "cell_type": "code",
   "execution_count": 8,
   "metadata": {},
   "outputs": [
    {
     "name": "stdout",
     "output_type": "stream",
     "text": [
      "1542585600000000000\n",
      "2010-11-12 00:00:00\n",
      "2010-11-12 00:00:00\n"
     ]
    }
   ],
   "source": [
    "tstamp = pd.Timestamp(dt.datetime(2018, 11, 19))\n",
    "\n",
    "# internally it counts the nanoseconds from January 1st 19\n",
    "#tstamp = pd.Timestamp(dt.datetime(1970, 1, 1, 0, 0, 0, 1))\n",
    "print(tstamp.value)\n",
    "\n",
    "# when creating a timestamp the format can be explicitly passed\n",
    "print (pd.to_datetime('2010/11/12', format='%Y/%m/%d'))\n",
    "print (pd.to_datetime('12-11-2010 00:00', format='%d-%m-%Y %H:%M'))\n"
   ]
  },
  {
   "cell_type": "markdown",
   "metadata": {},
   "source": [
    "A standard series can be created and (range of) elements can be used as indexes"
   ]
  },
  {
   "cell_type": "code",
   "execution_count": 11,
   "metadata": {
    "scrolled": true
   },
   "outputs": [
    {
     "name": "stdout",
     "output_type": "stream",
     "text": [
      "2018-11-19 14:45:00    11.433572\n",
      "2018-11-20 14:45:00     9.741271\n",
      "2018-11-21 14:45:00    10.943178\n",
      "2018-11-22 14:45:00     9.383641\n",
      "Freq: D, dtype: float64 \n",
      "\n",
      "2018-11-19 14:45:00    11.433572\n",
      "2018-11-20 14:45:00     9.741271\n",
      "2018-11-21 14:45:00    10.943178\n",
      "Freq: D, dtype: float64 \n",
      "\n"
     ]
    }
   ],
   "source": [
    "tseries = pd.Series(np.random.normal(10, 1, len(days)), index=days)\n",
    "# Extracting elements\n",
    "print (tseries[0:4], '\\n')\n",
    "print (tseries['2018-11-19':'2018-11-21'], '\\n') # Note - includes end time\n"
   ]
  },
  {
   "cell_type": "markdown",
   "metadata": {},
   "source": [
    "`pd.to_datetime` can also be used to create a `DatetimeIndex`:"
   ]
  },
  {
   "cell_type": "code",
   "execution_count": 12,
   "metadata": {},
   "outputs": [
    {
     "data": {
      "text/plain": [
       "DatetimeIndex(['1980-02-04', '1980-02-05', '1980-02-06'], dtype='datetime64[ns]', freq=None)"
      ]
     },
     "execution_count": 12,
     "metadata": {},
     "output_type": "execute_result"
    }
   ],
   "source": [
    "pd.to_datetime([1, 2, 3], unit='D', origin=pd.Timestamp('1980-02-03'))"
   ]
  },
  {
   "cell_type": "markdown",
   "metadata": {},
   "source": [
    "## DataFrame\n",
    "\n",
    "A pandas DataFrame is like a simple tabular spreadsheet. For future reference (or for people already familiar with R), a pandas DataFrame is very similar to the R DataFrame.\n",
    "\n",
    "Each column in a DataFrame is a Series object.\n",
    "\n",
    "The element can be whatever, missing data are dealt with too (as NaN)"
   ]
  },
  {
   "cell_type": "markdown",
   "metadata": {},
   "source": [
    "### DataFrame creation\n",
    "\n",
    "A DataFrame can be created implicitly, with, e.g., a DatatimeIndex object as index:"
   ]
  },
  {
   "cell_type": "code",
   "execution_count": 13,
   "metadata": {},
   "outputs": [
    {
     "data": {
      "text/html": [
       "<div>\n",
       "<style scoped>\n",
       "    .dataframe tbody tr th:only-of-type {\n",
       "        vertical-align: middle;\n",
       "    }\n",
       "\n",
       "    .dataframe tbody tr th {\n",
       "        vertical-align: top;\n",
       "    }\n",
       "\n",
       "    .dataframe thead th {\n",
       "        text-align: right;\n",
       "    }\n",
       "</style>\n",
       "<table border=\"1\" class=\"dataframe\">\n",
       "  <thead>\n",
       "    <tr style=\"text-align: right;\">\n",
       "      <th></th>\n",
       "      <th>A</th>\n",
       "      <th>B</th>\n",
       "      <th>C</th>\n",
       "      <th>D</th>\n",
       "    </tr>\n",
       "  </thead>\n",
       "  <tbody>\n",
       "    <tr>\n",
       "      <th>2018-11-19 14:45:00</th>\n",
       "      <td>-0.553279</td>\n",
       "      <td>-0.167743</td>\n",
       "      <td>-0.756489</td>\n",
       "      <td>-1.480444</td>\n",
       "    </tr>\n",
       "    <tr>\n",
       "      <th>2018-11-19 15:45:00</th>\n",
       "      <td>0.845811</td>\n",
       "      <td>0.504143</td>\n",
       "      <td>1.251828</td>\n",
       "      <td>1.160802</td>\n",
       "    </tr>\n",
       "    <tr>\n",
       "      <th>2018-11-19 16:45:00</th>\n",
       "      <td>0.164717</td>\n",
       "      <td>-0.778178</td>\n",
       "      <td>-2.396250</td>\n",
       "      <td>-1.146024</td>\n",
       "    </tr>\n",
       "    <tr>\n",
       "      <th>2018-11-19 17:45:00</th>\n",
       "      <td>0.006012</td>\n",
       "      <td>0.845194</td>\n",
       "      <td>0.113240</td>\n",
       "      <td>0.071676</td>\n",
       "    </tr>\n",
       "    <tr>\n",
       "      <th>2018-11-19 18:45:00</th>\n",
       "      <td>-0.711367</td>\n",
       "      <td>-0.644225</td>\n",
       "      <td>0.572500</td>\n",
       "      <td>-2.388531</td>\n",
       "    </tr>\n",
       "    <tr>\n",
       "      <th>2018-11-19 19:45:00</th>\n",
       "      <td>0.167238</td>\n",
       "      <td>0.987661</td>\n",
       "      <td>0.373207</td>\n",
       "      <td>0.004564</td>\n",
       "    </tr>\n",
       "    <tr>\n",
       "      <th>2018-11-19 20:45:00</th>\n",
       "      <td>-1.026250</td>\n",
       "      <td>0.422881</td>\n",
       "      <td>1.147329</td>\n",
       "      <td>-0.343680</td>\n",
       "    </tr>\n",
       "    <tr>\n",
       "      <th>2018-11-19 21:45:00</th>\n",
       "      <td>-1.076442</td>\n",
       "      <td>1.127507</td>\n",
       "      <td>2.179316</td>\n",
       "      <td>1.164386</td>\n",
       "    </tr>\n",
       "    <tr>\n",
       "      <th>2018-11-19 22:45:00</th>\n",
       "      <td>-0.119157</td>\n",
       "      <td>-1.851742</td>\n",
       "      <td>1.275527</td>\n",
       "      <td>1.257347</td>\n",
       "    </tr>\n",
       "    <tr>\n",
       "      <th>2018-11-19 23:45:00</th>\n",
       "      <td>1.155864</td>\n",
       "      <td>0.334272</td>\n",
       "      <td>-1.353282</td>\n",
       "      <td>0.718231</td>\n",
       "    </tr>\n",
       "  </tbody>\n",
       "</table>\n",
       "</div>"
      ],
      "text/plain": [
       "                            A         B         C         D\n",
       "2018-11-19 14:45:00 -0.553279 -0.167743 -0.756489 -1.480444\n",
       "2018-11-19 15:45:00  0.845811  0.504143  1.251828  1.160802\n",
       "2018-11-19 16:45:00  0.164717 -0.778178 -2.396250 -1.146024\n",
       "2018-11-19 17:45:00  0.006012  0.845194  0.113240  0.071676\n",
       "2018-11-19 18:45:00 -0.711367 -0.644225  0.572500 -2.388531\n",
       "2018-11-19 19:45:00  0.167238  0.987661  0.373207  0.004564\n",
       "2018-11-19 20:45:00 -1.026250  0.422881  1.147329 -0.343680\n",
       "2018-11-19 21:45:00 -1.076442  1.127507  2.179316  1.164386\n",
       "2018-11-19 22:45:00 -0.119157 -1.851742  1.275527  1.257347\n",
       "2018-11-19 23:45:00  1.155864  0.334272 -1.353282  0.718231"
      ]
     },
     "execution_count": 13,
     "metadata": {},
     "output_type": "execute_result"
    }
   ],
   "source": [
    "entries=10\n",
    "dates=pd.date_range('19/11/2018 14:45:00',freq='h', periods=entries)\n",
    "df = pd.DataFrame(np.random.randn(entries,4), index=dates, columns=['A','B','C','D'])\n",
    "df\n"
   ]
  },
  {
   "cell_type": "markdown",
   "metadata": {},
   "source": [
    "or by means of a dictionary:\n"
   ]
  },
  {
   "cell_type": "code",
   "execution_count": null,
   "metadata": {},
   "outputs": [],
   "source": [
    "df2 = pd.DataFrame(\n",
    "    { 'A' : 1.,\n",
    "      'B' : pd.Timestamp('20130102'),\n",
    "      'C' : pd.Series(1,index=range(4),dtype='float32'),\n",
    "      'D' : np.arange(7,11),\n",
    "      'E' : pd.Categorical([\"test\",\"train\",\"test\",\"train\"]),\n",
    "    }\n",
    "    )\n",
    "   "
   ]
  },
  {
   "cell_type": "code",
   "execution_count": null,
   "metadata": {},
   "outputs": [],
   "source": [
    "df2"
   ]
  },
  {
   "cell_type": "markdown",
   "metadata": {},
   "source": [
    "### Viewing Data"
   ]
  },
  {
   "cell_type": "code",
   "execution_count": 14,
   "metadata": {},
   "outputs": [
    {
     "data": {
      "text/html": [
       "<div>\n",
       "<style scoped>\n",
       "    .dataframe tbody tr th:only-of-type {\n",
       "        vertical-align: middle;\n",
       "    }\n",
       "\n",
       "    .dataframe tbody tr th {\n",
       "        vertical-align: top;\n",
       "    }\n",
       "\n",
       "    .dataframe thead th {\n",
       "        text-align: right;\n",
       "    }\n",
       "</style>\n",
       "<table border=\"1\" class=\"dataframe\">\n",
       "  <thead>\n",
       "    <tr style=\"text-align: right;\">\n",
       "      <th></th>\n",
       "      <th>A</th>\n",
       "      <th>B</th>\n",
       "      <th>C</th>\n",
       "      <th>D</th>\n",
       "    </tr>\n",
       "  </thead>\n",
       "  <tbody>\n",
       "    <tr>\n",
       "      <th>2018-11-19 14:45:00</th>\n",
       "      <td>-0.553279</td>\n",
       "      <td>-0.167743</td>\n",
       "      <td>-0.756489</td>\n",
       "      <td>-1.480444</td>\n",
       "    </tr>\n",
       "    <tr>\n",
       "      <th>2018-11-19 15:45:00</th>\n",
       "      <td>0.845811</td>\n",
       "      <td>0.504143</td>\n",
       "      <td>1.251828</td>\n",
       "      <td>1.160802</td>\n",
       "    </tr>\n",
       "    <tr>\n",
       "      <th>2018-11-19 16:45:00</th>\n",
       "      <td>0.164717</td>\n",
       "      <td>-0.778178</td>\n",
       "      <td>-2.396250</td>\n",
       "      <td>-1.146024</td>\n",
       "    </tr>\n",
       "    <tr>\n",
       "      <th>2018-11-19 17:45:00</th>\n",
       "      <td>0.006012</td>\n",
       "      <td>0.845194</td>\n",
       "      <td>0.113240</td>\n",
       "      <td>0.071676</td>\n",
       "    </tr>\n",
       "    <tr>\n",
       "      <th>2018-11-19 18:45:00</th>\n",
       "      <td>-0.711367</td>\n",
       "      <td>-0.644225</td>\n",
       "      <td>0.572500</td>\n",
       "      <td>-2.388531</td>\n",
       "    </tr>\n",
       "  </tbody>\n",
       "</table>\n",
       "</div>"
      ],
      "text/plain": [
       "                            A         B         C         D\n",
       "2018-11-19 14:45:00 -0.553279 -0.167743 -0.756489 -1.480444\n",
       "2018-11-19 15:45:00  0.845811  0.504143  1.251828  1.160802\n",
       "2018-11-19 16:45:00  0.164717 -0.778178 -2.396250 -1.146024\n",
       "2018-11-19 17:45:00  0.006012  0.845194  0.113240  0.071676\n",
       "2018-11-19 18:45:00 -0.711367 -0.644225  0.572500 -2.388531"
      ]
     },
     "execution_count": 14,
     "metadata": {},
     "output_type": "execute_result"
    }
   ],
   "source": [
    "df.head()"
   ]
  },
  {
   "cell_type": "code",
   "execution_count": 15,
   "metadata": {},
   "outputs": [
    {
     "data": {
      "text/html": [
       "<div>\n",
       "<style scoped>\n",
       "    .dataframe tbody tr th:only-of-type {\n",
       "        vertical-align: middle;\n",
       "    }\n",
       "\n",
       "    .dataframe tbody tr th {\n",
       "        vertical-align: top;\n",
       "    }\n",
       "\n",
       "    .dataframe thead th {\n",
       "        text-align: right;\n",
       "    }\n",
       "</style>\n",
       "<table border=\"1\" class=\"dataframe\">\n",
       "  <thead>\n",
       "    <tr style=\"text-align: right;\">\n",
       "      <th></th>\n",
       "      <th>A</th>\n",
       "      <th>B</th>\n",
       "      <th>C</th>\n",
       "      <th>D</th>\n",
       "    </tr>\n",
       "  </thead>\n",
       "  <tbody>\n",
       "    <tr>\n",
       "      <th>2018-11-19 20:45:00</th>\n",
       "      <td>-1.026250</td>\n",
       "      <td>0.422881</td>\n",
       "      <td>1.147329</td>\n",
       "      <td>-0.343680</td>\n",
       "    </tr>\n",
       "    <tr>\n",
       "      <th>2018-11-19 21:45:00</th>\n",
       "      <td>-1.076442</td>\n",
       "      <td>1.127507</td>\n",
       "      <td>2.179316</td>\n",
       "      <td>1.164386</td>\n",
       "    </tr>\n",
       "    <tr>\n",
       "      <th>2018-11-19 22:45:00</th>\n",
       "      <td>-0.119157</td>\n",
       "      <td>-1.851742</td>\n",
       "      <td>1.275527</td>\n",
       "      <td>1.257347</td>\n",
       "    </tr>\n",
       "    <tr>\n",
       "      <th>2018-11-19 23:45:00</th>\n",
       "      <td>1.155864</td>\n",
       "      <td>0.334272</td>\n",
       "      <td>-1.353282</td>\n",
       "      <td>0.718231</td>\n",
       "    </tr>\n",
       "  </tbody>\n",
       "</table>\n",
       "</div>"
      ],
      "text/plain": [
       "                            A         B         C         D\n",
       "2018-11-19 20:45:00 -1.026250  0.422881  1.147329 -0.343680\n",
       "2018-11-19 21:45:00 -1.076442  1.127507  2.179316  1.164386\n",
       "2018-11-19 22:45:00 -0.119157 -1.851742  1.275527  1.257347\n",
       "2018-11-19 23:45:00  1.155864  0.334272 -1.353282  0.718231"
      ]
     },
     "execution_count": 15,
     "metadata": {},
     "output_type": "execute_result"
    }
   ],
   "source": [
    "df.tail(4)"
   ]
  },
  {
   "cell_type": "code",
   "execution_count": 16,
   "metadata": {},
   "outputs": [
    {
     "data": {
      "text/plain": [
       "DatetimeIndex(['2018-11-19 14:45:00', '2018-11-19 15:45:00',\n",
       "               '2018-11-19 16:45:00', '2018-11-19 17:45:00',\n",
       "               '2018-11-19 18:45:00', '2018-11-19 19:45:00',\n",
       "               '2018-11-19 20:45:00', '2018-11-19 21:45:00',\n",
       "               '2018-11-19 22:45:00', '2018-11-19 23:45:00'],\n",
       "              dtype='datetime64[ns]', freq='H')"
      ]
     },
     "execution_count": 16,
     "metadata": {},
     "output_type": "execute_result"
    }
   ],
   "source": [
    "df.index"
   ]
  },
  {
   "cell_type": "code",
   "execution_count": 17,
   "metadata": {},
   "outputs": [
    {
     "data": {
      "text/plain": [
       "Index(['A', 'B', 'C', 'D'], dtype='object')"
      ]
     },
     "execution_count": 17,
     "metadata": {},
     "output_type": "execute_result"
    }
   ],
   "source": [
    "df.columns"
   ]
  },
  {
   "cell_type": "code",
   "execution_count": 18,
   "metadata": {},
   "outputs": [
    {
     "data": {
      "text/plain": [
       "array([[-0.55327948, -0.16774277, -0.75648915, -1.48044426],\n",
       "       [ 0.84581061,  0.5041434 ,  1.25182784,  1.16080204],\n",
       "       [ 0.16471679, -0.77817813, -2.39624987, -1.1460241 ],\n",
       "       [ 0.00601157,  0.84519416,  0.11323953,  0.07167588],\n",
       "       [-0.71136668, -0.6442251 ,  0.57249953, -2.38853115],\n",
       "       [ 0.16723844,  0.98766137,  0.37320722,  0.00456369],\n",
       "       [-1.02625034,  0.42288109,  1.14732924, -0.34367976],\n",
       "       [-1.07644177,  1.12750683,  2.17931575,  1.16438562],\n",
       "       [-0.11915667, -1.85174168,  1.27552695,  1.25734731],\n",
       "       [ 1.15586407,  0.33427185, -1.35328203,  0.71823065]])"
      ]
     },
     "execution_count": 18,
     "metadata": {},
     "output_type": "execute_result"
    }
   ],
   "source": [
    "df.values"
   ]
  },
  {
   "cell_type": "code",
   "execution_count": 19,
   "metadata": {},
   "outputs": [
    {
     "data": {
      "text/html": [
       "<div>\n",
       "<style scoped>\n",
       "    .dataframe tbody tr th:only-of-type {\n",
       "        vertical-align: middle;\n",
       "    }\n",
       "\n",
       "    .dataframe tbody tr th {\n",
       "        vertical-align: top;\n",
       "    }\n",
       "\n",
       "    .dataframe thead th {\n",
       "        text-align: right;\n",
       "    }\n",
       "</style>\n",
       "<table border=\"1\" class=\"dataframe\">\n",
       "  <thead>\n",
       "    <tr style=\"text-align: right;\">\n",
       "      <th></th>\n",
       "      <th>A</th>\n",
       "      <th>B</th>\n",
       "      <th>C</th>\n",
       "      <th>D</th>\n",
       "    </tr>\n",
       "  </thead>\n",
       "  <tbody>\n",
       "    <tr>\n",
       "      <th>count</th>\n",
       "      <td>10.000000</td>\n",
       "      <td>10.000000</td>\n",
       "      <td>10.000000</td>\n",
       "      <td>10.000000</td>\n",
       "    </tr>\n",
       "    <tr>\n",
       "      <th>mean</th>\n",
       "      <td>-0.114685</td>\n",
       "      <td>0.077977</td>\n",
       "      <td>0.240693</td>\n",
       "      <td>-0.098167</td>\n",
       "    </tr>\n",
       "    <tr>\n",
       "      <th>std</th>\n",
       "      <td>0.746347</td>\n",
       "      <td>0.938243</td>\n",
       "      <td>1.386683</td>\n",
       "      <td>1.248871</td>\n",
       "    </tr>\n",
       "    <tr>\n",
       "      <th>min</th>\n",
       "      <td>-1.076442</td>\n",
       "      <td>-1.851742</td>\n",
       "      <td>-2.396250</td>\n",
       "      <td>-2.388531</td>\n",
       "    </tr>\n",
       "    <tr>\n",
       "      <th>25%</th>\n",
       "      <td>-0.671845</td>\n",
       "      <td>-0.525105</td>\n",
       "      <td>-0.539057</td>\n",
       "      <td>-0.945438</td>\n",
       "    </tr>\n",
       "    <tr>\n",
       "      <th>50%</th>\n",
       "      <td>-0.056573</td>\n",
       "      <td>0.378576</td>\n",
       "      <td>0.472853</td>\n",
       "      <td>0.038120</td>\n",
       "    </tr>\n",
       "    <tr>\n",
       "      <th>75%</th>\n",
       "      <td>0.166608</td>\n",
       "      <td>0.759931</td>\n",
       "      <td>1.225703</td>\n",
       "      <td>1.050159</td>\n",
       "    </tr>\n",
       "    <tr>\n",
       "      <th>max</th>\n",
       "      <td>1.155864</td>\n",
       "      <td>1.127507</td>\n",
       "      <td>2.179316</td>\n",
       "      <td>1.257347</td>\n",
       "    </tr>\n",
       "  </tbody>\n",
       "</table>\n",
       "</div>"
      ],
      "text/plain": [
       "               A          B          C          D\n",
       "count  10.000000  10.000000  10.000000  10.000000\n",
       "mean   -0.114685   0.077977   0.240693  -0.098167\n",
       "std     0.746347   0.938243   1.386683   1.248871\n",
       "min    -1.076442  -1.851742  -2.396250  -2.388531\n",
       "25%    -0.671845  -0.525105  -0.539057  -0.945438\n",
       "50%    -0.056573   0.378576   0.472853   0.038120\n",
       "75%     0.166608   0.759931   1.225703   1.050159\n",
       "max     1.155864   1.127507   2.179316   1.257347"
      ]
     },
     "execution_count": 19,
     "metadata": {},
     "output_type": "execute_result"
    }
   ],
   "source": [
    "df.describe()"
   ]
  },
  {
   "cell_type": "code",
   "execution_count": null,
   "metadata": {},
   "outputs": [],
   "source": [
    "df.T"
   ]
  },
  {
   "cell_type": "code",
   "execution_count": null,
   "metadata": {},
   "outputs": [],
   "source": [
    "df.sort_index(axis=1,ascending=False)"
   ]
  },
  {
   "cell_type": "code",
   "execution_count": null,
   "metadata": {},
   "outputs": [],
   "source": [
    "df.sort_values(by=\"C\")"
   ]
  },
  {
   "cell_type": "markdown",
   "metadata": {},
   "source": [
    "## Selection\n",
    "\n",
    "### Getting slices\n",
    "\n",
    "The following show how to get part of the DataFrame (i.e. not just the elements)"
   ]
  },
  {
   "cell_type": "code",
   "execution_count": 20,
   "metadata": {},
   "outputs": [
    {
     "name": "stdout",
     "output_type": "stream",
     "text": [
      "2018-11-19 14:45:00   -0.553279\n",
      "2018-11-19 15:45:00    0.845811\n",
      "2018-11-19 16:45:00    0.164717\n",
      "2018-11-19 17:45:00    0.006012\n",
      "2018-11-19 18:45:00   -0.711367\n",
      "2018-11-19 19:45:00    0.167238\n",
      "2018-11-19 20:45:00   -1.026250\n",
      "2018-11-19 21:45:00   -1.076442\n",
      "2018-11-19 22:45:00   -0.119157\n",
      "2018-11-19 23:45:00    1.155864\n",
      "Freq: H, Name: A, dtype: float64 \n",
      "\n",
      "2018-11-19 14:45:00   -0.553279\n",
      "2018-11-19 15:45:00    0.845811\n",
      "2018-11-19 16:45:00    0.164717\n",
      "2018-11-19 17:45:00    0.006012\n",
      "2018-11-19 18:45:00   -0.711367\n",
      "2018-11-19 19:45:00    0.167238\n",
      "2018-11-19 20:45:00   -1.026250\n",
      "2018-11-19 21:45:00   -1.076442\n",
      "2018-11-19 22:45:00   -0.119157\n",
      "2018-11-19 23:45:00    1.155864\n",
      "Freq: H, Name: A, dtype: float64\n"
     ]
    }
   ],
   "source": [
    "## standard and safe\n",
    "print (df['A'],'\\n')\n",
    "\n",
    "## equivalent but dangerous (imagine blank spaces in the name of the column..)\n",
    "print (df.A)"
   ]
  },
  {
   "cell_type": "code",
   "execution_count": null,
   "metadata": {},
   "outputs": [],
   "source": [
    "# selecting rows by counting\n",
    "print (df[0:3])\n",
    "\n",
    "# or by index\n",
    "print (df[\"2018-11-19 14:45:00\":\"2018-11-19 16:45:00\"])"
   ]
  },
  {
   "cell_type": "markdown",
   "metadata": {},
   "source": [
    "### Selection by label"
   ]
  },
  {
   "cell_type": "code",
   "execution_count": 22,
   "metadata": {},
   "outputs": [
    {
     "data": {
      "text/plain": [
       "A   -0.553279\n",
       "B   -0.167743\n",
       "C   -0.756489\n",
       "D   -1.480444\n",
       "Name: 2018-11-19 14:45:00, dtype: float64"
      ]
     },
     "execution_count": 22,
     "metadata": {},
     "output_type": "execute_result"
    }
   ],
   "source": [
    "# getting a cross section (part of the DataFrame) using a label\n",
    "df.loc[dates[0]]"
   ]
  },
  {
   "cell_type": "code",
   "execution_count": 23,
   "metadata": {},
   "outputs": [
    {
     "data": {
      "text/html": [
       "<div>\n",
       "<style scoped>\n",
       "    .dataframe tbody tr th:only-of-type {\n",
       "        vertical-align: middle;\n",
       "    }\n",
       "\n",
       "    .dataframe tbody tr th {\n",
       "        vertical-align: top;\n",
       "    }\n",
       "\n",
       "    .dataframe thead th {\n",
       "        text-align: right;\n",
       "    }\n",
       "</style>\n",
       "<table border=\"1\" class=\"dataframe\">\n",
       "  <thead>\n",
       "    <tr style=\"text-align: right;\">\n",
       "      <th></th>\n",
       "      <th>A</th>\n",
       "      <th>B</th>\n",
       "    </tr>\n",
       "  </thead>\n",
       "  <tbody>\n",
       "    <tr>\n",
       "      <th>2018-11-19 14:45:00</th>\n",
       "      <td>-0.553279</td>\n",
       "      <td>-0.167743</td>\n",
       "    </tr>\n",
       "    <tr>\n",
       "      <th>2018-11-19 15:45:00</th>\n",
       "      <td>0.845811</td>\n",
       "      <td>0.504143</td>\n",
       "    </tr>\n",
       "    <tr>\n",
       "      <th>2018-11-19 16:45:00</th>\n",
       "      <td>0.164717</td>\n",
       "      <td>-0.778178</td>\n",
       "    </tr>\n",
       "    <tr>\n",
       "      <th>2018-11-19 17:45:00</th>\n",
       "      <td>0.006012</td>\n",
       "      <td>0.845194</td>\n",
       "    </tr>\n",
       "    <tr>\n",
       "      <th>2018-11-19 18:45:00</th>\n",
       "      <td>-0.711367</td>\n",
       "      <td>-0.644225</td>\n",
       "    </tr>\n",
       "    <tr>\n",
       "      <th>2018-11-19 19:45:00</th>\n",
       "      <td>0.167238</td>\n",
       "      <td>0.987661</td>\n",
       "    </tr>\n",
       "    <tr>\n",
       "      <th>2018-11-19 20:45:00</th>\n",
       "      <td>-1.026250</td>\n",
       "      <td>0.422881</td>\n",
       "    </tr>\n",
       "    <tr>\n",
       "      <th>2018-11-19 21:45:00</th>\n",
       "      <td>-1.076442</td>\n",
       "      <td>1.127507</td>\n",
       "    </tr>\n",
       "    <tr>\n",
       "      <th>2018-11-19 22:45:00</th>\n",
       "      <td>-0.119157</td>\n",
       "      <td>-1.851742</td>\n",
       "    </tr>\n",
       "    <tr>\n",
       "      <th>2018-11-19 23:45:00</th>\n",
       "      <td>1.155864</td>\n",
       "      <td>0.334272</td>\n",
       "    </tr>\n",
       "  </tbody>\n",
       "</table>\n",
       "</div>"
      ],
      "text/plain": [
       "                            A         B\n",
       "2018-11-19 14:45:00 -0.553279 -0.167743\n",
       "2018-11-19 15:45:00  0.845811  0.504143\n",
       "2018-11-19 16:45:00  0.164717 -0.778178\n",
       "2018-11-19 17:45:00  0.006012  0.845194\n",
       "2018-11-19 18:45:00 -0.711367 -0.644225\n",
       "2018-11-19 19:45:00  0.167238  0.987661\n",
       "2018-11-19 20:45:00 -1.026250  0.422881\n",
       "2018-11-19 21:45:00 -1.076442  1.127507\n",
       "2018-11-19 22:45:00 -0.119157 -1.851742\n",
       "2018-11-19 23:45:00  1.155864  0.334272"
      ]
     },
     "execution_count": 23,
     "metadata": {},
     "output_type": "execute_result"
    }
   ],
   "source": [
    "# selecting on a multi-axis by label:\n",
    "df.loc[:,['A','B']]"
   ]
  },
  {
   "cell_type": "code",
   "execution_count": null,
   "metadata": {},
   "outputs": [],
   "source": [
    "# showing label slicing, both endpoints are included:\n",
    "df.loc['2018-11-19 18:45:00':'2018-11-19 20:45:00',['A','B']]"
   ]
  },
  {
   "cell_type": "code",
   "execution_count": null,
   "metadata": {},
   "outputs": [],
   "source": [
    "# getting an individual element\n",
    "print (df.loc[dates[1],'A'])\n",
    "\n",
    "# equivalently\n",
    "print (df.at[dates[1],'A'])"
   ]
  },
  {
   "cell_type": "markdown",
   "metadata": {},
   "source": [
    "### Selecting by position"
   ]
  },
  {
   "cell_type": "code",
   "execution_count": null,
   "metadata": {},
   "outputs": [],
   "source": [
    "# select via the position of the passed integers:\n",
    "print (df.iloc[3],'\\n')\n",
    "\n",
    "# notation similar to numpy/python\n",
    "print (df.iloc[3:5,0:2])"
   ]
  },
  {
   "cell_type": "code",
   "execution_count": null,
   "metadata": {},
   "outputs": [],
   "source": [
    "# selecting raws 1,2 and 4 for columns 0 and 2\n",
    "df.iloc[[1,2,4],[0,2]]"
   ]
  },
  {
   "cell_type": "code",
   "execution_count": null,
   "metadata": {},
   "outputs": [],
   "source": [
    "# slicing rows explicitly\n",
    "print (df.iloc[1:3,:],'\\n')\n",
    "\n",
    "# slicing columns explicitly\n",
    "print (df.iloc[:,1:3])\n"
   ]
  },
  {
   "cell_type": "code",
   "execution_count": null,
   "metadata": {},
   "outputs": [],
   "source": [
    "# selecting an individual element by position\n",
    "df.iloc[1,1]\n",
    "df.iat[1,1]\n"
   ]
  },
  {
   "cell_type": "markdown",
   "metadata": {},
   "source": [
    "### Boolean index\n",
    "\n",
    "Very powerful way of filtering out data with certain features. Notation is very similar to numpy arrays."
   ]
  },
  {
   "cell_type": "code",
   "execution_count": 24,
   "metadata": {},
   "outputs": [
    {
     "data": {
      "text/html": [
       "<div>\n",
       "<style scoped>\n",
       "    .dataframe tbody tr th:only-of-type {\n",
       "        vertical-align: middle;\n",
       "    }\n",
       "\n",
       "    .dataframe tbody tr th {\n",
       "        vertical-align: top;\n",
       "    }\n",
       "\n",
       "    .dataframe thead th {\n",
       "        text-align: right;\n",
       "    }\n",
       "</style>\n",
       "<table border=\"1\" class=\"dataframe\">\n",
       "  <thead>\n",
       "    <tr style=\"text-align: right;\">\n",
       "      <th></th>\n",
       "      <th>A</th>\n",
       "      <th>B</th>\n",
       "      <th>C</th>\n",
       "      <th>D</th>\n",
       "    </tr>\n",
       "  </thead>\n",
       "  <tbody>\n",
       "    <tr>\n",
       "      <th>2018-11-19 15:45:00</th>\n",
       "      <td>0.845811</td>\n",
       "      <td>0.504143</td>\n",
       "      <td>1.251828</td>\n",
       "      <td>1.160802</td>\n",
       "    </tr>\n",
       "    <tr>\n",
       "      <th>2018-11-19 17:45:00</th>\n",
       "      <td>0.006012</td>\n",
       "      <td>0.845194</td>\n",
       "      <td>0.113240</td>\n",
       "      <td>0.071676</td>\n",
       "    </tr>\n",
       "    <tr>\n",
       "      <th>2018-11-19 19:45:00</th>\n",
       "      <td>0.167238</td>\n",
       "      <td>0.987661</td>\n",
       "      <td>0.373207</td>\n",
       "      <td>0.004564</td>\n",
       "    </tr>\n",
       "    <tr>\n",
       "      <th>2018-11-19 20:45:00</th>\n",
       "      <td>-1.026250</td>\n",
       "      <td>0.422881</td>\n",
       "      <td>1.147329</td>\n",
       "      <td>-0.343680</td>\n",
       "    </tr>\n",
       "    <tr>\n",
       "      <th>2018-11-19 21:45:00</th>\n",
       "      <td>-1.076442</td>\n",
       "      <td>1.127507</td>\n",
       "      <td>2.179316</td>\n",
       "      <td>1.164386</td>\n",
       "    </tr>\n",
       "    <tr>\n",
       "      <th>2018-11-19 23:45:00</th>\n",
       "      <td>1.155864</td>\n",
       "      <td>0.334272</td>\n",
       "      <td>-1.353282</td>\n",
       "      <td>0.718231</td>\n",
       "    </tr>\n",
       "  </tbody>\n",
       "</table>\n",
       "</div>"
      ],
      "text/plain": [
       "                            A         B         C         D\n",
       "2018-11-19 15:45:00  0.845811  0.504143  1.251828  1.160802\n",
       "2018-11-19 17:45:00  0.006012  0.845194  0.113240  0.071676\n",
       "2018-11-19 19:45:00  0.167238  0.987661  0.373207  0.004564\n",
       "2018-11-19 20:45:00 -1.026250  0.422881  1.147329 -0.343680\n",
       "2018-11-19 21:45:00 -1.076442  1.127507  2.179316  1.164386\n",
       "2018-11-19 23:45:00  1.155864  0.334272 -1.353282  0.718231"
      ]
     },
     "execution_count": 24,
     "metadata": {},
     "output_type": "execute_result"
    }
   ],
   "source": [
    "# Filter by a boolean condition on the values of a single column\n",
    "df[df['B'] > 0]"
   ]
  },
  {
   "cell_type": "code",
   "execution_count": 25,
   "metadata": {},
   "outputs": [
    {
     "data": {
      "text/html": [
       "<div>\n",
       "<style scoped>\n",
       "    .dataframe tbody tr th:only-of-type {\n",
       "        vertical-align: middle;\n",
       "    }\n",
       "\n",
       "    .dataframe tbody tr th {\n",
       "        vertical-align: top;\n",
       "    }\n",
       "\n",
       "    .dataframe thead th {\n",
       "        text-align: right;\n",
       "    }\n",
       "</style>\n",
       "<table border=\"1\" class=\"dataframe\">\n",
       "  <thead>\n",
       "    <tr style=\"text-align: right;\">\n",
       "      <th></th>\n",
       "      <th>A</th>\n",
       "      <th>B</th>\n",
       "      <th>C</th>\n",
       "      <th>D</th>\n",
       "    </tr>\n",
       "  </thead>\n",
       "  <tbody>\n",
       "    <tr>\n",
       "      <th>2018-11-19 14:45:00</th>\n",
       "      <td>NaN</td>\n",
       "      <td>NaN</td>\n",
       "      <td>NaN</td>\n",
       "      <td>NaN</td>\n",
       "    </tr>\n",
       "    <tr>\n",
       "      <th>2018-11-19 15:45:00</th>\n",
       "      <td>0.845811</td>\n",
       "      <td>0.504143</td>\n",
       "      <td>1.251828</td>\n",
       "      <td>1.160802</td>\n",
       "    </tr>\n",
       "    <tr>\n",
       "      <th>2018-11-19 16:45:00</th>\n",
       "      <td>0.164717</td>\n",
       "      <td>NaN</td>\n",
       "      <td>NaN</td>\n",
       "      <td>NaN</td>\n",
       "    </tr>\n",
       "    <tr>\n",
       "      <th>2018-11-19 17:45:00</th>\n",
       "      <td>0.006012</td>\n",
       "      <td>0.845194</td>\n",
       "      <td>0.113240</td>\n",
       "      <td>0.071676</td>\n",
       "    </tr>\n",
       "    <tr>\n",
       "      <th>2018-11-19 18:45:00</th>\n",
       "      <td>NaN</td>\n",
       "      <td>NaN</td>\n",
       "      <td>0.572500</td>\n",
       "      <td>NaN</td>\n",
       "    </tr>\n",
       "    <tr>\n",
       "      <th>2018-11-19 19:45:00</th>\n",
       "      <td>0.167238</td>\n",
       "      <td>0.987661</td>\n",
       "      <td>0.373207</td>\n",
       "      <td>0.004564</td>\n",
       "    </tr>\n",
       "    <tr>\n",
       "      <th>2018-11-19 20:45:00</th>\n",
       "      <td>NaN</td>\n",
       "      <td>0.422881</td>\n",
       "      <td>1.147329</td>\n",
       "      <td>NaN</td>\n",
       "    </tr>\n",
       "    <tr>\n",
       "      <th>2018-11-19 21:45:00</th>\n",
       "      <td>NaN</td>\n",
       "      <td>1.127507</td>\n",
       "      <td>2.179316</td>\n",
       "      <td>1.164386</td>\n",
       "    </tr>\n",
       "    <tr>\n",
       "      <th>2018-11-19 22:45:00</th>\n",
       "      <td>NaN</td>\n",
       "      <td>NaN</td>\n",
       "      <td>1.275527</td>\n",
       "      <td>1.257347</td>\n",
       "    </tr>\n",
       "    <tr>\n",
       "      <th>2018-11-19 23:45:00</th>\n",
       "      <td>1.155864</td>\n",
       "      <td>0.334272</td>\n",
       "      <td>NaN</td>\n",
       "      <td>0.718231</td>\n",
       "    </tr>\n",
       "  </tbody>\n",
       "</table>\n",
       "</div>"
      ],
      "text/plain": [
       "                            A         B         C         D\n",
       "2018-11-19 14:45:00       NaN       NaN       NaN       NaN\n",
       "2018-11-19 15:45:00  0.845811  0.504143  1.251828  1.160802\n",
       "2018-11-19 16:45:00  0.164717       NaN       NaN       NaN\n",
       "2018-11-19 17:45:00  0.006012  0.845194  0.113240  0.071676\n",
       "2018-11-19 18:45:00       NaN       NaN  0.572500       NaN\n",
       "2018-11-19 19:45:00  0.167238  0.987661  0.373207  0.004564\n",
       "2018-11-19 20:45:00       NaN  0.422881  1.147329       NaN\n",
       "2018-11-19 21:45:00       NaN  1.127507  2.179316  1.164386\n",
       "2018-11-19 22:45:00       NaN       NaN  1.275527  1.257347\n",
       "2018-11-19 23:45:00  1.155864  0.334272       NaN  0.718231"
      ]
     },
     "execution_count": 25,
     "metadata": {},
     "output_type": "execute_result"
    }
   ],
   "source": [
    "# Selecting on the basis of boolean conditions applied to the whole DataFrame\n",
    "df[df>0]\n",
    "\n",
    "# a DataFrame with the same shape is returned, with NaN's where condition is not met"
   ]
  },
  {
   "cell_type": "markdown",
   "metadata": {},
   "source": [
    "### Setting\n",
    "\n",
    "Combination of selection and setting of values"
   ]
  },
  {
   "cell_type": "code",
   "execution_count": null,
   "metadata": {},
   "outputs": [],
   "source": [
    "# setting values by label (same as by position)\n",
    "df.at[dates[0],'A'] = 0\n",
    "\n",
    "# setting and assigning a numpy array\n",
    "df.loc[:,'D'] = np.array([5] * len(df))\n",
    "\n",
    "# defining a brend new column\n",
    "df['E'] = np.arange(len(df))*0.5\n",
    "\n",
    "# defining a brend new column by means of a pd.Series: indexes must be the same!\n",
    "df['E prime'] = pd.Series(np.arange(len(df))*2, index=df.index)\n"
   ]
  },
  {
   "cell_type": "code",
   "execution_count": null,
   "metadata": {},
   "outputs": [],
   "source": [
    "def dcos(theta):\n",
    "    theta = theta*(np.pi/180)\n",
    "    return np.cos(theta)\n",
    " \n",
    "df['cosine'] = pd.Series(df[\"E\"].apply(dcos), index=df.index)\n",
    "df"
   ]
  },
  {
   "cell_type": "code",
   "execution_count": null,
   "metadata": {},
   "outputs": [],
   "source": [
    "# another example of global setting\n",
    "df2=df.copy()\n",
    "df2[df2>0] = -df2\n",
    "df2"
   ]
  },
  {
   "cell_type": "markdown",
   "metadata": {},
   "source": [
    "### Dropping\n",
    "\n",
    "N.B.: dropping doesn't act permanently on the DataFrame, i.e. to get that do :\n",
    "```python\n",
    "df = df.drop(....)\n",
    "```"
   ]
  },
  {
   "cell_type": "code",
   "execution_count": null,
   "metadata": {},
   "outputs": [],
   "source": [
    "# Dropping by column\n",
    "df.drop(['E prime'], axis=1)\n",
    "\n",
    "#which is equivalent to\n",
    "df.drop(columns=['E prime'])"
   ]
  },
  {
   "cell_type": "code",
   "execution_count": null,
   "metadata": {},
   "outputs": [],
   "source": [
    "# Dropping by raws\n",
    "# save and always working\n",
    "df.drop(df.index[[1,2,3,4]])"
   ]
  },
  {
   "cell_type": "code",
   "execution_count": null,
   "metadata": {},
   "outputs": [],
   "source": [
    "# something like df.drop('index_name') \n",
    "# would work but the type of index must be specificed, \n",
    "# in particular with DatetimeIndex\n",
    "df.drop(pd.to_datetime(\"2018-11-19 22:45:00\"))"
   ]
  },
  {
   "cell_type": "markdown",
   "metadata": {},
   "source": [
    "## Missing data\n",
    "\n",
    "pandas primarily uses the value np.nan to represent missing data. It is by default not included in computations."
   ]
  },
  {
   "cell_type": "code",
   "execution_count": null,
   "metadata": {},
   "outputs": [],
   "source": [
    "df_wNan = df[df>0]\n",
    "df_wNan"
   ]
  },
  {
   "cell_type": "code",
   "execution_count": null,
   "metadata": {},
   "outputs": [],
   "source": [
    "# dropping raws with at least a Nan\n",
    "df_wNan.dropna(how='any')"
   ]
  },
  {
   "cell_type": "code",
   "execution_count": null,
   "metadata": {},
   "outputs": [],
   "source": [
    "# getting a mask\n",
    "df_wNan.isna()\n",
    "#df_wNan.notna()"
   ]
  },
  {
   "cell_type": "code",
   "execution_count": null,
   "metadata": {},
   "outputs": [],
   "source": [
    "# filling missing data\n",
    "df_wNan.fillna(value=0)"
   ]
  },
  {
   "cell_type": "markdown",
   "metadata": {},
   "source": [
    "Fill gaps forward or backward by propagating non-NA values forward or backward:"
   ]
  },
  {
   "cell_type": "code",
   "execution_count": null,
   "metadata": {},
   "outputs": [],
   "source": [
    "df_wNan.fillna(method='pad')"
   ]
  },
  {
   "cell_type": "markdown",
   "metadata": {},
   "source": [
    "## Operations\n",
    "\n",
    "Here comes the most relevant advantage of DataFrame. Operations on columns are extremly fast, almost as fast as the actual operation between elements in a raw"
   ]
  },
  {
   "cell_type": "code",
   "execution_count": null,
   "metadata": {},
   "outputs": [],
   "source": [
    "# Some statistics (mean() just as an example)\n",
    "# raws\n",
    "print (df.mean(axis=0),'\\n')\n",
    "# columns\n",
    "print (df.mean(axis=1),'\\n')"
   ]
  },
  {
   "cell_type": "code",
   "execution_count": null,
   "metadata": {},
   "outputs": [],
   "source": [
    "# global operations on columns\n",
    "df.apply(np.cumsum)"
   ]
  },
  {
   "cell_type": "code",
   "execution_count": null,
   "metadata": {},
   "outputs": [],
   "source": [
    "df.apply(lambda x: x.max() - x.min())"
   ]
  },
  {
   "cell_type": "code",
   "execution_count": null,
   "metadata": {},
   "outputs": [],
   "source": [
    "# syntax is as usual similar to that of numpy arrays\n",
    "df['A']+df['B']"
   ]
  },
  {
   "cell_type": "markdown",
   "metadata": {},
   "source": [
    "Let's play it hard and load (in memory) a (relatively) large dataset"
   ]
  },
  {
   "cell_type": "code",
   "execution_count": null,
   "metadata": {},
   "outputs": [],
   "source": [
    "file_name=\"/Users/mzanetti/data/LEMMA2018/DT/raw/data_000636.txt\"\n",
    "data=pd.read_csv(file_name)\n",
    "data"
   ]
  },
  {
   "cell_type": "markdown",
   "metadata": {},
   "source": [
    "Let's know do some operations among (elements of) columns"
   ]
  },
  {
   "cell_type": "code",
   "execution_count": null,
   "metadata": {},
   "outputs": [],
   "source": [
    "# the one-liner killing it all\n",
    "data['timens']=data['TDC_MEAS']*25/30+data['BX_COUNTER']*25"
   ]
  },
  {
   "cell_type": "code",
   "execution_count": null,
   "metadata": {},
   "outputs": [],
   "source": [
    "# the old slooow way\n",
    "def conversion(data):\n",
    "    result=[]\n",
    "    for i in range(len(data)): \n",
    "        result.append(data.loc[data.index[i],'TDC_MEAS']*25/30.+data.loc[data.index[i],'BX_COUNTER']*25)\n",
    "    return result\n",
    "\n",
    "data['timens']=conversion(data)"
   ]
  },
  {
   "cell_type": "markdown",
   "metadata": {},
   "source": [
    "## Merge\n",
    "\n",
    "pandas provides various facilities for easily combining together Series, DataFrame, and Panel objects with various kinds of set logic for the indexes and relational algebra functionality in the case of join / merge-type operations.\n",
    "\n",
    "### Concat\n",
    "\n",
    "concatenation (adding raws) is straightforward\n"
   ]
  },
  {
   "cell_type": "code",
   "execution_count": null,
   "metadata": {},
   "outputs": [],
   "source": [
    "rdf = pd.DataFrame(np.random.randn(10, 4))\n",
    "rdf"
   ]
  },
  {
   "cell_type": "code",
   "execution_count": null,
   "metadata": {},
   "outputs": [],
   "source": [
    "# divide it into pieaces raw-wise\n",
    "pieces = [rdf[:3], rdf[3:7], rdf[7:]]\n",
    "pieces"
   ]
  },
  {
   "cell_type": "code",
   "execution_count": null,
   "metadata": {},
   "outputs": [],
   "source": [
    "# put it back together\n",
    "pd.concat(pieces)\n",
    "\n",
    "# indexes can be ignored\n",
    "#pd.concat(pieces, ignore_index=True)\n",
    "\n",
    "# in case of dimension mismatch, Nan are added where needed"
   ]
  },
  {
   "cell_type": "code",
   "execution_count": null,
   "metadata": {},
   "outputs": [],
   "source": [
    "# appending a single raw (as a Series)\n",
    "s = rdf.iloc[3]\n",
    "rdf.append(s, ignore_index=True)\n"
   ]
  },
  {
   "cell_type": "markdown",
   "metadata": {},
   "source": [
    "### Merge/Join\n",
    "\n",
    "SQL like operations on table can be performed on DataFrames. This is all rather sophisticated, refer to the [doc](https://pandas.pydata.org/pandas-docs/stable/merging.html#merging) for more info/examples"
   ]
  },
  {
   "cell_type": "code",
   "execution_count": null,
   "metadata": {},
   "outputs": [],
   "source": [
    "left = pd.DataFrame({'key': ['foo', 'bar'], 'lval': [1, 2]})\n",
    "right = pd.DataFrame({'key': ['foo', 'bar'], 'rval': [4, 5]})\n",
    "\n",
    "pd.merge(left,right,on=\"key\")"
   ]
  },
  {
   "cell_type": "markdown",
   "metadata": {},
   "source": [
    "## Grouping\n",
    "\n",
    "By “group by” we are referring to a process involving one or more of the following steps:\n",
    "\n",
    "* Splitting the data into groups based on some criteria\n",
    "* Applying a function to each group independently\n",
    "* Combining the results into a data structure\n"
   ]
  },
  {
   "cell_type": "code",
   "execution_count": null,
   "metadata": {},
   "outputs": [],
   "source": [
    "gdf = pd.DataFrame({'A' : ['foo', 'bar', 'foo', 'bar',\n",
    "                          'foo', 'bar', 'foo', 'foo'],\n",
    "                    'B' : ['one', 'one', 'two', 'three',\n",
    "                           'two', 'two', 'one', 'three'],\n",
    "                    'C' : np.random.randn(8),\n",
    "                    'D' : np.random.randn(8)})\n",
    "gdf"
   ]
  },
  {
   "cell_type": "code",
   "execution_count": null,
   "metadata": {},
   "outputs": [],
   "source": [
    "# Grouping and then applying the sum() \n",
    "# function to the resulting groups (effective only where number are there).\n",
    "gdf.groupby('A').sum()"
   ]
  },
  {
   "cell_type": "markdown",
   "metadata": {},
   "source": [
    "## Multi-indexing\n",
    "\n",
    "\n",
    "Hierarchical / Multi-level indexing allows sophisticated data analysis on higher dimensional data. In essence, it enables you to store and manipulate data with an arbitrary number of dimensions in lower dimensional data structures like Series (1d) and DataFrame (2d)."
   ]
  },
  {
   "cell_type": "code",
   "execution_count": null,
   "metadata": {},
   "outputs": [],
   "source": [
    "tuples = list(zip(['bar', 'bar', 'baz', 'baz', 'foo', 'foo', 'qux', 'qux'],\n",
    "          ['one', 'two', 'one', 'two', 'one', 'two', 'one', 'two']))\n",
    "multi_index = pd.MultiIndex.from_tuples(tuples, names=['first', 'second'])\n",
    "print (index,'\\n')\n",
    "\n",
    "s = pd.Series(np.random.randn(8), index=multi_index)\n",
    "print (s)\n"
   ]
  },
  {
   "cell_type": "code",
   "execution_count": null,
   "metadata": {},
   "outputs": [],
   "source": [
    "# it enables further features of the groupby method,\n",
    "# e.g. when group-by by multiple columns\n",
    "gdf.groupby(['A','B']).sum()"
   ]
  },
  {
   "cell_type": "code",
   "execution_count": null,
   "metadata": {},
   "outputs": [],
   "source": [
    "# stack() method “compresses” a level in the DataFrame’s columns\n",
    "gdf.groupby(['A','B']).sum().stack()"
   ]
  },
  {
   "cell_type": "markdown",
   "metadata": {},
   "source": [
    "## Plotting\n",
    "\n",
    "Just a preview, more on the next lab class!"
   ]
  },
  {
   "cell_type": "code",
   "execution_count": null,
   "metadata": {},
   "outputs": [],
   "source": [
    "ts = pd.Series(np.random.randn(1000), index=pd.date_range('1/1/2000', periods=1000))\n",
    "ts.cumsum().plot()"
   ]
  },
  {
   "cell_type": "code",
   "execution_count": null,
   "metadata": {},
   "outputs": [],
   "source": [
    "pdf=pd.DataFrame(np.random.randn(1000, 4), index=ts.index,columns=['A', 'B', 'C', 'D'])\n",
    "df = df.cumsum()\n",
    "plt.figure(); df.plot(); plt.legend(loc='best')"
   ]
  },
  {
   "cell_type": "code",
   "execution_count": null,
   "metadata": {},
   "outputs": [],
   "source": []
  }
 ],
 "metadata": {
  "kernelspec": {
   "display_name": "Python 3",
   "language": "python",
   "name": "python3"
  },
  "language_info": {
   "codemirror_mode": {
    "name": "ipython",
    "version": 3
   },
   "file_extension": ".py",
   "mimetype": "text/x-python",
   "name": "python",
   "nbconvert_exporter": "python",
   "pygments_lexer": "ipython3",
   "version": "3.7.0"
  }
 },
 "nbformat": 4,
 "nbformat_minor": 2
}
