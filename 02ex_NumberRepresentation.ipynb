{
 "cells": [
  {
   "cell_type": "markdown",
   "metadata": {},
   "source": [
    "1\\. Write a function that converts number representation (bin<->dec<->hex)"
   ]
  },
  {
   "cell_type": "code",
   "execution_count": 60,
   "metadata": {},
   "outputs": [
    {
     "name": "stdout",
     "output_type": "stream",
     "text": [
      "Type the decimal or string binary or hexadecimal number you want to convert \n",
      "100\n",
      "Type 'dec' for decimal conversion \n",
      " '2' for binary conversion \n",
      " or '16' for hexadecimal conversion \n",
      "2\n",
      "dec --> bin\n",
      "Binary representation of 100 : 0b1100100\n"
     ]
    }
   ],
   "source": [
    "def bin_dec_hex(number,base):\n",
    "    if base=='dec':\n",
    "        a=[x for x in number]\n",
    "        out=0\n",
    "        if a[1]=='b':\n",
    "            print('dec --> bin')\n",
    "            a.remove[a[1]]\n",
    "            a.remove[a[0]]\n",
    "            for i in len(a):\n",
    "                print(i)\n",
    "                out+=a[i]*(2**(len(a[i])*i+1))\n",
    "            print('Decimal representation of',number,':', out)\n",
    "        elif a[1]=='x':\n",
    "            print('dec --> hex')\n",
    "            a.remove[a[1]]\n",
    "            a.remove[a[0]]\n",
    "            for i in range(0,len(a)):\n",
    "                if a[i]=='a':\n",
    "                    a[i]=10\n",
    "                if a[i]=='b':\n",
    "                    a[i]=11\n",
    "                if a[i]=='c':\n",
    "                    a[i]=12\n",
    "                if a[i]=='d':\n",
    "                    a[i]=13\n",
    "                if a[i]=='e':\n",
    "                    a[i]=14\n",
    "                if a[i]=='f':\n",
    "                    a[i]=15\n",
    "                out+=a[i]*(len(a[i])-i+1)*8\n",
    "            print('Decimal representation of',number,':', out)\n",
    "            \n",
    "    elif base=='2':\n",
    "        print('dec --> bin')\n",
    "        a=int(number)\n",
    "        out=[0,'b']\n",
    "        i=64\n",
    "        j=1000\n",
    "        while i>=0:\n",
    "            if a>=(2**i):\n",
    "                j=i\n",
    "                out.append(1)\n",
    "                a=a-(2**i)\n",
    "            elif j!=1000:\n",
    "                out.append(0)\n",
    "            i-=1\n",
    "        out=''.join(map(str, out))\n",
    "        print('Binary representation of',number,':', out)\n",
    " \n",
    "    elif base=='16':\n",
    "        print('dec --> hex')\n",
    "        a=int(number)\n",
    "        out=[0,'x']\n",
    "        i=64\n",
    "        j=1000\n",
    "        while i>=0:\n",
    "            count=0\n",
    "            if a>(16**i):\n",
    "                j=i\n",
    "                while a>=16**i:\n",
    "                    count+=1\n",
    "                    a=a-(16**i)\n",
    "                out.append(count)\n",
    "            elif j!=1000:\n",
    "                out.append(0)\n",
    "            i-=1\n",
    "        for x in range(0,len(out)):\n",
    "                if out[x]==10:\n",
    "                    out[x]='a'\n",
    "                if out[x]==11:\n",
    "                    out[x]='b'\n",
    "                if out[x]==12:\n",
    "                    out[x]='c'\n",
    "                if out[x]==13:\n",
    "                    out[x]='d'\n",
    "                if out[x]==14:\n",
    "                    out[x]='e'\n",
    "                if out[x]==15:\n",
    "                    out[x]='f'\n",
    "        out=''.join(map(str, out))\n",
    "        print('Hexadecimal representation of',number,':', out)\n",
    "    \n",
    "    else:\n",
    "        print('INPUT ERROR')\n",
    " \n",
    "\n",
    "number=input(\"Type the decimal or string binary or hexadecimal number you want to convert \\n\")\n",
    "base=input(\"Type 'dec' for decimal conversion \\n '2' for binary conversion \\n or '16' for hexadecimal conversion \\n\")\n",
    "\n",
    "bin_dec_hex(number, base)"
   ]
  },
  {
   "cell_type": "markdown",
   "metadata": {},
   "source": [
    "2\\. Write a function that converts a 32 bit word into a single precision floating point (i.e. interprets the various bits as sign, mantissa and exponent)"
   ]
  },
  {
   "cell_type": "markdown",
   "metadata": {},
   "source": [
    "3\\. Write a program to determine the underflow and overflow limits (within a factor of 2) for python on your computer. \n",
    "\n",
    "**Tips**: define two variables inizialized to 1 and halve/double them enough time to exceed the under/over-flow limits  "
   ]
  },
  {
   "cell_type": "markdown",
   "metadata": {},
   "source": [
    "4\\. Write a program to determine the machine precision\n",
    "\n",
    "**Tips**: define a new variable by adding a smaller and smaller value (proceeding similarly to prob. 2) to an original variable and check the point where the two are the same "
   ]
  },
  {
   "cell_type": "markdown",
   "metadata": {},
   "source": [
    "5\\. Write a function that takes in input three parameters $a$, $b$ and $c$ and prints out the two solutions to the quadratic equation $ax^2+bx+c=0$ using the standard formula:\n",
    "$$\n",
    "x=\\frac{-b\\pm\\sqrt{b^2-4ac}}{2a}\n",
    "$$\n",
    "\n",
    "(a) use the program to compute the solution for $a=0.001$, $b=1000$ and $c=0.001$\n",
    "\n",
    "(b) re-express the standard solution formula by multiplying top and bottom by $-b\\mp\\sqrt{b^2-4ac}$ and again find the solution for $a=0.001$, $b=1000$ and $c=0.001$. How does it compare with what previously obtained? Why?\n",
    "\n",
    "(c) write a function that compute the roots of a quadratic equation accurately in all cases"
   ]
  },
  {
   "cell_type": "markdown",
   "metadata": {},
   "source": [
    "6\\. Write a program that implements the function $f(x)=x(x−1)$\n",
    "\n",
    "(a) Calculate the derivative of the function at the point $x = 1$ using the derivative definition:\n",
    "\n",
    "$$\n",
    "\\frac{{\\rm d}f}{{\\rm d}x} = \\lim_{\\delta\\to0} \\frac{f(x+\\delta)-f(x)}{\\delta}\n",
    "$$\n",
    "\n",
    "with $\\delta = 10^{−2}$. Calculate the true value of the same derivative analytically and compare with the answer your program gives. The two will not agree perfectly. Why not?\n",
    "\n",
    "(b) Repeat the calculation for $\\delta = 10^{−4}, 10^{−6}, 10^{−8}, 10^{−10}, 10^{−12}$ and $10^{−14}$. How does the accuracy scales with $\\delta$?"
   ]
  },
  {
   "cell_type": "markdown",
   "metadata": {},
   "source": [
    "7\\. Consider the integral of the semicircle of radius 1:\n",
    "$$\n",
    "I=\\int_{-1}^{1} \\sqrt(1-x^2) {\\rm d}x\n",
    "$$\n",
    "which it's known to be $I=\\frac{\\pi}{2}=1.57079632679...$.\n",
    "Alternatively we can use the Riemann definition of the integral:\n",
    "$$\n",
    "I=\\lim_{N\\to\\infty} \\sum_{k=1}^{N} h y_k \n",
    "$$\n",
    "\n",
    "with $h=2/N$ the width of each of the $N$ slices the domain is divided into and where\n",
    "$y_k$ is the value of the function at the $k-$th slice.\n",
    "\n",
    "(a) Write a programe to compute the integral with $N=100$. How does the result compares to the true value?\n",
    "\n",
    "(b) How much can $N$ be increased if the computation needs to be run in less than a second? What is the gain in running it for 1 minute? \n"
   ]
  },
  {
   "cell_type": "code",
   "execution_count": null,
   "metadata": {},
   "outputs": [],
   "source": []
  }
 ],
 "metadata": {
  "kernelspec": {
   "display_name": "Python 3",
   "language": "python",
   "name": "python3"
  },
  "language_info": {
   "codemirror_mode": {
    "name": "ipython",
    "version": 3
   },
   "file_extension": ".py",
   "mimetype": "text/x-python",
   "name": "python",
   "nbconvert_exporter": "python",
   "pygments_lexer": "ipython3",
   "version": "3.6.5"
  }
 },
 "nbformat": 4,
 "nbformat_minor": 2
}
