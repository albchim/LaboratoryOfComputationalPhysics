{
 "cells": [
  {
   "cell_type": "markdown",
   "metadata": {},
   "source": [
    "1\\. Write a function that converts number representation (bin<->dec<->hex)"
   ]
  },
  {
   "cell_type": "code",
   "execution_count": null,
   "metadata": {},
   "outputs": [],
   "source": [
    "def bin_dec_hex(number,base):\n",
    "    \n",
    "    #DICTIONARIES FOR HEX<-->DEC TRANSLATION\n",
    "    hex_dec={'a':10, 'b':11, 'c':12, 'd':13, 'e':14, 'f':15,'1':1,'2':2, '3':3,'4':4,'5':5,'6':6,'7':7,'8':8,'9':9,'0':0}\n",
    "    dec_hex={p:q for q,p in hex_dec.items()}\n",
    "    \n",
    "    a=[x for x in number]\n",
    "    #CONVERSION TO DECIMAL\n",
    "    if base=='dec':\n",
    "        out=0\n",
    "        \n",
    "        #Binary case\n",
    "        if a[1]=='b':\n",
    "            print('bin --> dec')\n",
    "            for i in range(2,len(a)):\n",
    "                out += int(a[i])*(2**(len(a)-(i+1)))\n",
    "            print('Decimal representation of',number,':', out)\n",
    "            return out\n",
    "        \n",
    "        #Hexadecimal case\n",
    "        elif a[1]=='x':\n",
    "            print('hex --> dec')\n",
    "            for i in range(2,len(a)):\n",
    "                out += (int(hex_dec[a[i]])*(16**(len(a)-(i+1)))) \n",
    "            print('Decimal representation of',number,':', out)\n",
    "            return out\n",
    "            \n",
    "    #CONVERSION TO BINARY            \n",
    "    elif base=='2':\n",
    "        out=[0,'b']\n",
    "        \n",
    "        if len(a)>=3 and a[1]=='x':\n",
    "            print('hex --> bin')\n",
    "            \n",
    "            ##Converts hex --> dec\n",
    "            temp=0\n",
    "            for i in range(2,len(a)):\n",
    "                temp += (int(hex_dec[a[i]])*(16**(len(a)-(i+1))))\n",
    "            a=temp\n",
    "            \n",
    "        else:\n",
    "            a=int(number)\n",
    "            print('dec --> bin')\n",
    "            \n",
    "        ##Converts dec --> bin   \n",
    "        i=64\n",
    "        j='none'\n",
    "        while i>=0:\n",
    "            if a>=(2**i):\n",
    "                j=i\n",
    "                out.append(1)\n",
    "                a=a-(2**i)\n",
    "            elif j!='none':\n",
    "                out.append(0)\n",
    "            i-=1\n",
    "        out=''.join(map(str, out))\n",
    "        print('Binary representation of',number,':', out)\n",
    "        return out\n",
    "\n",
    "    #CONVERSION TO HEXADECIMAL\n",
    "    elif base=='16':\n",
    "        out=[0,'x']\n",
    "        \n",
    "        if len(a)>=3 and a[1]=='b':\n",
    "            print('bin --> hex')\n",
    "            \n",
    "            ##Converts bin --> dec\n",
    "            temp=0\n",
    "            for i in range(2,len(a)):\n",
    "                temp += int(a[i])*(2**(len(a)-(i+1)))\n",
    "            a=temp\n",
    "            \n",
    "        else:\n",
    "            a=int(number)\n",
    "            print('dec --> hex')\n",
    "            \n",
    "        ##Converts dec --> hex\n",
    "        i=64\n",
    "        j='none'\n",
    "        while i>=0:\n",
    "            count=0\n",
    "            if a>=(16**i):\n",
    "                j=i\n",
    "                while a>=16**i:\n",
    "                    count+=1\n",
    "                    a=a-(16**i)\n",
    "                out.append(dec_hex[count])\n",
    "            elif j!='none':\n",
    "                out.append(0)\n",
    "            i-=1\n",
    "        out=''.join(map(str, out))\n",
    "        print('Hexadecimal representation of',number,':', out)\n",
    "        return out\n",
    "    \n",
    "    else:\n",
    "        print('INPUT ERROR')\n",
    " \n",
    "\n",
    "number=input(\"Type the decimal or string binary or hexadecimal number you want to convert \\n (insert 0b-- for binary and 0x-- for hexadecimal in front of the number)\\n\")\n",
    "base=input(\"Type: \\n 'dec' for decimal conversion \\n '2' for binary conversion \\n '16' for hexadecimal conversion \\n\")\n",
    "\n",
    "bin_dec_hex(number, base)"
   ]
  },
  {
   "cell_type": "markdown",
   "metadata": {},
   "source": [
    "2\\. Write a function that converts a 32 bit word into a single precision floating point (i.e. interprets the various bits as sign, mantissa and exponent)"
   ]
  },
  {
   "cell_type": "markdown",
   "metadata": {},
   "source": [
    "3\\. Write a program to determine the underflow and overflow limits (within a factor of 2) for python on your computer. \n",
    "\n",
    "**Tips**: define two variables inizialized to 1 and halve/double them enough time to exceed the under/over-flow limits  "
   ]
  },
  {
   "cell_type": "markdown",
   "metadata": {},
   "source": [
    "4\\. Write a program to determine the machine precision\n",
    "\n",
    "**Tips**: define a new variable by adding a smaller and smaller value (proceeding similarly to prob. 2) to an original variable and check the point where the two are the same "
   ]
  },
  {
   "cell_type": "markdown",
   "metadata": {},
   "source": [
    "5\\. Write a function that takes in input three parameters $a$, $b$ and $c$ and prints out the two solutions to the quadratic equation $ax^2+bx+c=0$ using the standard formula:\n",
    "$$\n",
    "x=\\frac{-b\\pm\\sqrt{b^2-4ac}}{2a}\n",
    "$$\n",
    "\n",
    "(a) use the program to compute the solution for $a=0.001$, $b=1000$ and $c=0.001$\n",
    "\n",
    "(b) re-express the standard solution formula by multiplying top and bottom by $-b\\mp\\sqrt{b^2-4ac}$ and again find the solution for $a=0.001$, $b=1000$ and $c=0.001$. How does it compare with what previously obtained? Why?\n",
    "\n",
    "(c) write a function that compute the roots of a quadratic equation accurately in all cases"
   ]
  },
  {
   "cell_type": "code",
   "execution_count": 7,
   "metadata": {},
   "outputs": [
    {
     "name": "stdout",
     "output_type": "stream",
     "text": [
      "(-9.999894245993346e-07, -999999.999999)\n",
      "(-1.000000000001e-06, -1000010.5755125057)\n"
     ]
    },
    {
     "ename": "TypeError",
     "evalue": "unsupported operand type(s) for -: 'tuple' and 'tuple'",
     "output_type": "error",
     "traceback": [
      "\u001b[1;31m---------------------------------------------------------------------------\u001b[0m",
      "\u001b[1;31mTypeError\u001b[0m                                 Traceback (most recent call last)",
      "\u001b[1;32m<ipython-input-7-7554942460cf>\u001b[0m in \u001b[0;36m<module>\u001b[1;34m\u001b[0m\n\u001b[0;32m     16\u001b[0m \u001b[0mprint\u001b[0m\u001b[1;33m(\u001b[0m\u001b[0mroots\u001b[0m\u001b[1;33m(\u001b[0m\u001b[0ma\u001b[0m\u001b[1;33m,\u001b[0m\u001b[0mb\u001b[0m\u001b[1;33m,\u001b[0m\u001b[0mc\u001b[0m\u001b[1;33m)\u001b[0m\u001b[1;33m)\u001b[0m\u001b[1;33m\u001b[0m\u001b[1;33m\u001b[0m\u001b[0m\n\u001b[0;32m     17\u001b[0m \u001b[0mprint\u001b[0m\u001b[1;33m(\u001b[0m\u001b[0mroots_mod\u001b[0m\u001b[1;33m(\u001b[0m\u001b[0ma\u001b[0m\u001b[1;33m,\u001b[0m\u001b[0mb\u001b[0m\u001b[1;33m,\u001b[0m\u001b[0mc\u001b[0m\u001b[1;33m)\u001b[0m\u001b[1;33m)\u001b[0m\u001b[1;33m\u001b[0m\u001b[1;33m\u001b[0m\u001b[0m\n\u001b[1;32m---> 18\u001b[1;33m \u001b[0mprint\u001b[0m\u001b[1;33m(\u001b[0m\u001b[0mroots\u001b[0m\u001b[1;33m(\u001b[0m\u001b[0ma\u001b[0m\u001b[1;33m,\u001b[0m\u001b[0mb\u001b[0m\u001b[1;33m,\u001b[0m\u001b[0mc\u001b[0m\u001b[1;33m)\u001b[0m\u001b[1;33m-\u001b[0m\u001b[0mroots_mod\u001b[0m\u001b[1;33m(\u001b[0m\u001b[0ma\u001b[0m\u001b[1;33m,\u001b[0m\u001b[0mb\u001b[0m\u001b[1;33m,\u001b[0m\u001b[0mc\u001b[0m\u001b[1;33m)\u001b[0m\u001b[1;33m)\u001b[0m\u001b[1;33m\u001b[0m\u001b[1;33m\u001b[0m\u001b[0m\n\u001b[0m",
      "\u001b[1;31mTypeError\u001b[0m: unsupported operand type(s) for -: 'tuple' and 'tuple'"
     ]
    }
   ],
   "source": [
    "#(a)\n",
    "def roots(a,b,c):\n",
    "    x_plus=(-b + (b**2 - 4*a*c)**0.5)/(2*a)\n",
    "    x_minus=(-b - (b**2 - 4*a*c)**0.5)/(2*a)\n",
    "    return x_plus, x_minus\n",
    "\n",
    "#(b)\n",
    "def roots_mod(a,b,c):\n",
    "    x_plus_mod=(2*c)/(-b - (b**2 - 4*a*c)**0.5)\n",
    "    x_minus_mod=(2*c)/(-b + (b**2 - 4*a*c)**0.5)\n",
    "    return x_plus_mod, x_minus_mod\n",
    "\n",
    "\n",
    "a,b,c=0.001,1000,0.001\n",
    "\n",
    "print(roots(a,b,c))\n",
    "print(roots_mod(a,b,c))\n",
    "print(roots(a,b,c)-roots_mod(a,b,c))"
   ]
  },
  {
   "cell_type": "markdown",
   "metadata": {},
   "source": [
    "6\\. Write a program that implements the function $f(x)=x(x−1)$\n",
    "\n",
    "(a) Calculate the derivative of the function at the point $x = 1$ using the derivative definition:\n",
    "\n",
    "$$\n",
    "\\frac{{\\rm d}f}{{\\rm d}x} = \\lim_{\\delta\\to0} \\frac{f(x+\\delta)-f(x)}{\\delta}\n",
    "$$\n",
    "\n",
    "with $\\delta = 10^{−2}$. Calculate the true value of the same derivative analytically and compare with the answer your program gives. The two will not agree perfectly. Why not?\n",
    "\n",
    "(b) Repeat the calculation for $\\delta = 10^{−4}, 10^{−6}, 10^{−8}, 10^{−10}, 10^{−12}$ and $10^{−14}$. How does the accuracy scales with $\\delta$?"
   ]
  },
  {
   "cell_type": "markdown",
   "metadata": {},
   "source": [
    "7\\. Consider the integral of the semicircle of radius 1:\n",
    "$$\n",
    "I=\\int_{-1}^{1} \\sqrt(1-x^2) {\\rm d}x\n",
    "$$\n",
    "which it's known to be $I=\\frac{\\pi}{2}=1.57079632679...$.\n",
    "Alternatively we can use the Riemann definition of the integral:\n",
    "$$\n",
    "I=\\lim_{N\\to\\infty} \\sum_{k=1}^{N} h y_k \n",
    "$$\n",
    "\n",
    "with $h=2/N$ the width of each of the $N$ slices the domain is divided into and where\n",
    "$y_k$ is the value of the function at the $k-$th slice.\n",
    "\n",
    "(a) Write a programe to compute the integral with $N=100$. How does the result compares to the true value?\n",
    "\n",
    "(b) How much can $N$ be increased if the computation needs to be run in less than a second? What is the gain in running it for 1 minute? \n"
   ]
  },
  {
   "cell_type": "code",
   "execution_count": null,
   "metadata": {},
   "outputs": [],
   "source": []
  }
 ],
 "metadata": {
  "kernelspec": {
   "display_name": "Python 3",
   "language": "python",
   "name": "python3"
  },
  "language_info": {
   "codemirror_mode": {
    "name": "ipython",
    "version": 3
   },
   "file_extension": ".py",
   "mimetype": "text/x-python",
   "name": "python",
   "nbconvert_exporter": "python",
   "pygments_lexer": "ipython3",
   "version": "3.7.1"
  }
 },
 "nbformat": 4,
 "nbformat_minor": 2
}
